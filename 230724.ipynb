{
 "cells": [
  {
   "cell_type": "markdown",
   "metadata": {},
   "source": [
    "## Data structure\n",
    "여러 데이터를 효과적으로 관리하기 위한 구조 \n",
    "str, list, dic 등"
   ]
  },
  {
   "cell_type": "markdown",
   "metadata": {},
   "source": [
    "문자열, 리스트, 딕셔너리 등 각 데이터 구조의 [메서드]를 호출하여 다양한 기능 활용\n",
    "함수 호출, \n",
    "[메서드]?\n",
    "함수가 호출되는 방식에 따라 메서드라고 불리기도 함."
   ]
  },
  {
   "cell_type": "markdown",
   "metadata": {},
   "source": [
    "## method[메서드]\n",
    "객체에 속한 함수 >> 객체의 상태를 조작하거나 동작을 수행\n",
    "메서드는 class 내부에 정의되는 함수\n",
    "클래스는 파이썬에서 타입을 설명하는 함수\n",
    "예를 들어 help함수를 통해 str을 호출해보면 class였다는 것을 확인 가능\n",
    "\n",
    " 메서드는 어딘가(클래스)에 속해 있는 함수\n",
    "\n",
    " ### 메서드 호출 방법\n",
    " 'hello'.capitlize()\n",
    "    객체.메서드()"
   ]
  },
  {
   "cell_type": "code",
   "execution_count": null,
   "metadata": {},
   "outputs": [],
   "source": [
    "\n",
    "#문자열 메서드 예시\n",
    "print('hello'.capitalize())\n",
    "\n",
    "# 리스트 메서드 예시\n",
    "numbers = [1, 2, 3]\n",
    "numbers.append(4)\n",
    "\n",
    "print(numbers)"
   ]
  },
  {
   "cell_type": "markdown",
   "metadata": {},
   "source": [
    "### 문자열 조회/탐색 및 검증 메서드\n"
   ]
  },
  {
   "cell_type": "markdown",
   "metadata": {},
   "source": [
    "\n",
    "s.find(x) : x의 첫번째 위치를 반환, 없으면 -1를 반환\n",
    "\n",
    "s.index(x): x의 첫번쨰 위치를 반환, 없으면 오류 발생\n",
    "\n",
    "s.isalpha(): 알파벳 문자 여부 * 단순 알파벳이 아닌 유니코드 상 Letter(한국어포함)\n",
    "\n",
    "s.isupper() : 대문자여부\n",
    "\n",
    "s.islower() : 소문자 여부\n",
    "\n",
    "s.istitle():  모든 단에서 대문자 이후 소문자가 반환되어야 True로 출력"
   ]
  },
  {
   "cell_type": "code",
   "execution_count": 1,
   "metadata": {},
   "outputs": [
    {
     "name": "stdout",
     "output_type": "stream",
     "text": [
      "True\n",
      "False\n",
      "False\n",
      "False\n",
      "False\n"
     ]
    }
   ],
   "source": [
    "string1 = 'HELLO'\n",
    "string2 = 'Hello'\n",
    "\n",
    "print(string1.isupper())\n",
    "print(string2.isupper())\n",
    "print(string1.islower())\n",
    "print(string2.islower())\n",
    "print((string1+string2).istitle()) # title 단어의 첫번째 글자만 대문자이고 나머지가 소문자여야 True 반환"
   ]
  },
  {
   "cell_type": "code",
   "execution_count": 1,
   "metadata": {},
   "outputs": [
    {
     "name": "stdout",
     "output_type": "stream",
     "text": [
      "1\n",
      "-1\n",
      "1\n"
     ]
    }
   ],
   "source": [
    "print('banana'.find('a')) # 인덱스1 반환\n",
    "print('banana'.find('z')) # 없어서 -1 반환 # -1을 활용가능\n",
    "print('banana'.index('a'))\n",
    "# print('banana'.index('z')) # ValueError: substring not found\n",
    "                            # 에러가 발생하면 코드 중단"
   ]
  },
  {
   "cell_type": "markdown",
   "metadata": {},
   "source": [
    "## 문자열 조작 메서드\n",
    "\n",
    "### .replace(old, new[,count]) //  ,[] 선택인자라는 뜻 몇 번 바꿀 것인지\n",
    "    바꿀 대상 글자를 새로운 글자로 바꿔서 반환\n"
   ]
  },
  {
   "cell_type": "code",
   "execution_count": null,
   "metadata": {},
   "outputs": [],
   "source": [
    "text = 'hello, world!'\n",
    "new_text = text.replace('world', 'Python')\n",
    "print(new_text)"
   ]
  },
  {
   "cell_type": "markdown",
   "metadata": {},
   "source": [
    "\n",
    "### .strip([chars])\n",
    "    문자열의 시작과 끝에 있는 공백 혹은 지정한 문자를 제거\n",
    "    문자열의 양쪽에 [] 안에 해당하는 문자가 있을 때 해당하지 않는 문자가 나타날 때까지 제거\n"
   ]
  },
  {
   "cell_type": "code",
   "execution_count": null,
   "metadata": {},
   "outputs": [],
   "source": [
    "text = '!hello, world!' \n",
    "new_text = text.strip('!')\n",
    "print(text)\n",
    "print(new_text)\n"
   ]
  },
  {
   "cell_type": "code",
   "execution_count": 3,
   "metadata": {},
   "outputs": [
    {
     "name": "stdout",
     "output_type": "stream",
     "text": [
      "  hello, world!     \n",
      "  hello, world!     \n"
     ]
    }
   ],
   "source": [
    "text = '  hello, world!     ' \n",
    "new_text = text.strip('')\n",
    "print(text)\n",
    "print(new_text)"
   ]
  },
  {
   "cell_type": "markdown",
   "metadata": {},
   "source": [
    "\n",
    "### .split(sep=None, maxsplit=-1)  !!!\n",
    "    구분자로 문자열을 분리하여 문자열의 리스트로 반환\n",
    "    #최대 maxsplit번의 분할을 수행\n",
    "\n",
    "### .separator.join([iterable]) !!!\n",
    "    iterable 요소들을 원래의 문자열을 구분자로 이용하여 하나의 문자열로 연결\n",
    "    \n",
    "\n"
   ]
  },
  {
   "cell_type": "code",
   "execution_count": 6,
   "metadata": {},
   "outputs": [
    {
     "name": "stdout",
     "output_type": "stream",
     "text": [
      "['hello', ' world']\n",
      "['he', 'llo', ' w', 'or,ld']\n"
     ]
    }
   ],
   "source": [
    "text = 'hello, world' \n",
    "words = text.split(',')\n",
    "print(words) \n",
    "\n",
    "text = 'he,llo, w,or,ld' \n",
    "words = text.split(',', maxsplit=3)\n",
    "print(words) "
   ]
  },
  {
   "cell_type": "code",
   "execution_count": 7,
   "metadata": {},
   "outputs": [
    {
     "name": "stdout",
     "output_type": "stream",
     "text": [
      "Hello-world!\n"
     ]
    }
   ],
   "source": [
    "\n",
    "words = ['Hello', 'world!']\n",
    "text = '-'.join(words)\n",
    "print(text)"
   ]
  },
  {
   "cell_type": "markdown",
   "metadata": {},
   "source": [
    "### 그 외 메서드\n",
    "1. capitalize : 첫번쨰 글자 대문자로\n",
    "2. title : 단어의 첫글자 대문자로\n",
    "3. upper : 모두 대문자로\n",
    "4. swapcase: 대, 소문자 변경\n",
    "\n",
    "* 메서드는 이어서 사용 가능"
   ]
  },
  {
   "cell_type": "code",
   "execution_count": 10,
   "metadata": {},
   "outputs": [
    {
     "name": "stdout",
     "output_type": "stream",
     "text": [
      "Hello world\n",
      "Hello World\n",
      "HELLO WORLD\n",
      "HEllO wORlD\n",
      "HEzzO wORzD\n"
     ]
    }
   ],
   "source": [
    "# text = 'heLLo WorLd'\n",
    "# print(text.capitalize) ## 메서드 바로 출력하면 주소가 나오나?\n",
    "\n",
    "text = 'heLLo WorLd'\n",
    "new_text1 = text.capitalize()\n",
    "new_text2 = text.title()\n",
    "new_text3 = text.upper()\n",
    "new_text4 = text.swapcase()\n",
    "\n",
    "print(new_text1)\n",
    "print(new_text2)\n",
    "print(new_text3)\n",
    "print(new_text4)\n",
    "\n",
    "new_text5 = text.swapcase().replace('l','z')\n",
    "print(new_text5)"
   ]
  },
  {
   "cell_type": "markdown",
   "metadata": {},
   "source": [
    "## 리스트 값 추가 및 삭제 메서드\n",
    "\n",
    "### L.append(x)  !!!!\n",
    "    리스트 마지막 항목에 x 를 추가\n",
    "\n",
    "### L.extend(m)  !!!\n",
    "    iterable m의 모든 항목들을 리스트 끝에 추가 (+= 과 같은 기능)\n",
    "### L.insert(i, x)\n",
    "    리스트의 지정한 인덱스 위치 i에 항목 x를 삽입\n",
    "### L.remove(x)\n",
    "    리스트에서 첫 번째로 일치하는 항목 삭제\n",
    "    항목이 존재하지 않을 경우 Value error 발생\n",
    "### L.pop()        !!!\n",
    "    리스트의 가장 오른쪽에 있는 항목을 반환 후 제거\n",
    "### L.pop(i) 리스트 인덱스 i에 있는 항목을 반환 후 제거\n",
    "### L.clear() 리시트 내 모든 항목 삭제\n"
   ]
  },
  {
   "cell_type": "code",
   "execution_count": 14,
   "metadata": {},
   "outputs": [
    {
     "name": "stdout",
     "output_type": "stream",
     "text": [
      "None\n",
      "[1, 2, 3, [4, 5, 6], [4, 5, 6]]\n"
     ]
    }
   ],
   "source": [
    "# append\n",
    "my_list = [1, 2, 3]\n",
    "numbers = [4, 5, 6]\n",
    "my_list.append(numbers)  \n",
    "print(my_list.append(numbers))   # .append하면 none 나오네유 \n",
    "print(my_list)"
   ]
  },
  {
   "cell_type": "code",
   "execution_count": 15,
   "metadata": {},
   "outputs": [
    {
     "name": "stdout",
     "output_type": "stream",
     "text": [
      "[1, 2, 3, 4, 5, 6]\n"
     ]
    }
   ],
   "source": [
    "# extend\n",
    "my_list = [1, 2, 3]\n",
    "my_list.extend([4, 5, 6]) # [ ] 를 벗겨내고 기존 list 에 추가\n",
    "print(my_list)"
   ]
  },
  {
   "cell_type": "code",
   "execution_count": 17,
   "metadata": {},
   "outputs": [
    {
     "name": "stdout",
     "output_type": "stream",
     "text": [
      "[1, 5, 2, 3]\n"
     ]
    }
   ],
   "source": [
    "# insert(i, x)\n",
    "my_list = [1, 2, 3]\n",
    "my_list.insert(1, 5) # 1번 인덱스에 5를 삽입\n",
    "print(my_list)"
   ]
  },
  {
   "cell_type": "code",
   "execution_count": 16,
   "metadata": {},
   "outputs": [
    {
     "name": "stdout",
     "output_type": "stream",
     "text": [
      "[1, 3, 2]\n"
     ]
    }
   ],
   "source": [
    "# remove(x)\n",
    "my_list = [1, 2, 3, 2]\n",
    "my_list.remove(2)\n",
    "print(my_list)"
   ]
  },
  {
   "cell_type": "code",
   "execution_count": 19,
   "metadata": {},
   "outputs": [
    {
     "name": "stdout",
     "output_type": "stream",
     "text": [
      "5\n",
      "1\n",
      "[2, 3, 4]\n"
     ]
    }
   ],
   "source": [
    "my_list = [1, 2, 3, 4, 5]\n",
    "item1 = my_list.pop()    # i값 작성하면 i번째, 미작성시 제일 마지막 항목 제거\n",
    "item2 = my_list.pop(0)\n",
    "\n",
    "print(item1)\n",
    "print(item2)\n",
    "print(my_list)"
   ]
  },
  {
   "cell_type": "code",
   "execution_count": 20,
   "metadata": {},
   "outputs": [
    {
     "name": "stdout",
     "output_type": "stream",
     "text": [
      "[]\n"
     ]
    }
   ],
   "source": [
    "# clear\n",
    "my_list = [1, 2, 3, 4, 5]\n",
    "my_list.clear()\n",
    "print(my_list)"
   ]
  },
  {
   "cell_type": "markdown",
   "metadata": {},
   "source": [
    "## 리스트 탐색 및 정렬 메서드\n",
    "\n",
    "### L.index(x, star, end)\n",
    "    리스트에 있는 항목 중 가장 왼쪽에 있는 항목 x의 인덱스를 반환\n",
    "\n",
    "### L.count(x)\n",
    "    리스트에서 항목 x가 등장하는 횟수를 반환\n",
    "### L.reverse /정렬x  !!!\n",
    "    리스트의 순서를 역순으로 변경(정렬x)\n",
    "### L.sort, /정렬  !!!\n",
    "    원본 리스트를 오름차순으로 정렬"
   ]
  },
  {
   "cell_type": "code",
   "execution_count": 29,
   "metadata": {},
   "outputs": [
    {
     "name": "stdout",
     "output_type": "stream",
     "text": [
      "3\n"
     ]
    }
   ],
   "source": [
    "#count()\n",
    "\n",
    "my_list = [1, 3, 2, 3, 4, 3, 2, 5]\n",
    "count = my_list.count(3)\n",
    "print(count)"
   ]
  },
  {
   "cell_type": "code",
   "execution_count": 26,
   "metadata": {},
   "outputs": [
    {
     "name": "stdout",
     "output_type": "stream",
     "text": [
      "3\n"
     ]
    }
   ],
   "source": [
    "my_list = [1, 2, 3, 4, 5, 6, 7, 8]\n",
    "index = my_list.index(4, 1, 7)\n",
    "print(index)  # 그 값이 아니라, 그 값의 인덱스를 반환"
   ]
  },
  {
   "cell_type": "code",
   "execution_count": 28,
   "metadata": {},
   "outputs": [
    {
     "name": "stdout",
     "output_type": "stream",
     "text": [
      "[1, 2, 3, 4, 6]\n"
     ]
    }
   ],
   "source": [
    "# sort()\n",
    "my_list = [1, 2, 3, 6, 4] \n",
    "my_list.sort()\n",
    "print(my_list)"
   ]
  },
  {
   "cell_type": "code",
   "execution_count": 31,
   "metadata": {},
   "outputs": [
    {
     "name": "stdout",
     "output_type": "stream",
     "text": [
      "[6, 4, 3, 2, 1]\n"
     ]
    }
   ],
   "source": [
    "# sort(reverse)\n",
    "my_list = [1, 2, 3, 6, 4] \n",
    "my_list.sort(reverse=True)\n",
    "print(my_list)"
   ]
  },
  {
   "cell_type": "code",
   "execution_count": 30,
   "metadata": {},
   "outputs": [
    {
     "name": "stdout",
     "output_type": "stream",
     "text": [
      "[4, 6, 3, 2, 1]\n"
     ]
    }
   ],
   "source": [
    "# reverse \n",
    "my_list = [1, 2, 3, 6, 4] \n",
    "my_list.reverse()\n",
    "print(my_list)"
   ]
  },
  {
   "cell_type": "markdown",
   "metadata": {},
   "source": [
    "## 문자열에 포함된 문자들의 유형을 판별하는 메서드\n",
    "### isdemical()\n",
    "    문자열이 모두 숫자 문자(0~9)로만 이루어져 있어야 True\n",
    "\n",
    "### isdigit()\n",
    "    isdemical()과 비슷하지만, 유니코드 숫자도 인식 (① 같은거도 인식)\n",
    "\n",
    "### isnumeric()\n",
    "    isdigit도 유사하지만, 몇 가지 추가적인 유니코드 문자들을 인식(분수, 지수, 루트 등)"
   ]
  }
 ],
 "metadata": {
  "kernelspec": {
   "display_name": "Python 3",
   "language": "python",
   "name": "python3"
  },
  "language_info": {
   "codemirror_mode": {
    "name": "ipython",
    "version": 3
   },
   "file_extension": ".py",
   "mimetype": "text/x-python",
   "name": "python",
   "nbconvert_exporter": "python",
   "pygments_lexer": "ipython3",
   "version": "3.9.13"
  },
  "orig_nbformat": 4
 },
 "nbformat": 4,
 "nbformat_minor": 2
}
