{
 "cells": [
  {
   "cell_type": "code",
   "execution_count": 6,
   "metadata": {},
   "outputs": [
    {
     "name": "stdout",
     "output_type": "stream",
     "text": [
      "hello\n"
     ]
    }
   ],
   "source": [
    "print(\"hello\")"
   ]
  },
  {
   "cell_type": "markdown",
   "metadata": {},
   "source": [
    "# 파이썬 기초\n",
    "\n",
    "1. 저장\n",
    "2. 조건\n",
    "3. 반복\n",
    "\n",
    "## 1. 저장\n",
    "\n",
    "변수 : 하나의 값을 저장할 수 있는 저장 공간\n",
    "\n",
    "무엇을 저장하는가?\n",
    "1. 숫자\n",
    "    1. 현실세계에 존재하는 모든 문자, 기본적인 연산 가능\n",
    "2. 글자/문자\n",
    "    1. 현실세계에 존재하는 모든 글자, 파이선에서 글자를 표현하기 위해서는 따옴표(\") 사용\n",
    "3. 참/거짓\n",
    "    1. True/False 단 두가지, 조건문/반복문에 사용\n",
    "    2. 300 > 200 => True\n",
    "    3. 150 == 161 => False\n",
    "\n"
   ]
  },
  {
   "cell_type": "code",
   "execution_count": null,
   "metadata": {},
   "outputs": [],
   "source": [
    "height = 173 # 변수에 파이선에서 기본적으로 설정되어 있는 값(True같은)은 이용 불가.\n",
    "\n",
    "name = \"강찬우\"0413\n",
    "boolean = 300 > 200 # True\n",
    "print(height, name, boolean)"
   ]
  },
  {
   "cell_type": "markdown",
   "metadata": {},
   "source": [
    "값을 여러개 저장하려면??\n",
    "\n",
    "리스트(List) 사용\n",
    "여러개의 연속된 값을 저장할 수 있는 저장 공간"
   ]
  },
  {
   "cell_type": "code",
   "execution_count": 19,
   "metadata": {},
   "outputs": [
    {
     "name": "stdout",
     "output_type": "stream",
     "text": [
      "설렁탕\n"
     ]
    }
   ],
   "source": [
    "lunch = [\"돼지불백\", \"지코바치밥\", \"설렁탕\"]\n",
    "\n",
    "print(lunch[2])\n",
    "\n",
    "# 3이상 기재할시 3번째이상 목록이 없으므로 에러 발생\n",
    "IndexError                                Traceback (most recent call last)\n",
    "Cell In[15], line 3\n",
    "      1 lunch = [\"돼지불백\", \"지코바치밥\", \"설렁탕\"]\n",
    "----> 3 print(lunch[4])\n",
    "\n",
    "IndexError: list index out of range"
   ]
  },
  {
   "cell_type": "code",
   "execution_count": null,
   "metadata": {},
   "outputs": [],
   "source": [
    "딕셔너리(Dictionary)\n",
    "이름표를 단 여러개의 저장값을 저장할 수 있는 저장 공간"
   ]
  },
  {
   "cell_type": "code",
   "execution_count": 24,
   "metadata": {},
   "outputs": [
    {
     "name": "stdout",
     "output_type": "stream",
     "text": [
      "chanwoo 173\n"
     ]
    }
   ],
   "source": [
    "Chanwoo = { \"name\" : \"chanwoo\" , \"height\" : 173}\n",
    "\n",
    "print(Chanwoo[\"name\"], Chanwoo[\"height\"])"
   ]
  },
  {
   "cell_type": "code",
   "execution_count": null,
   "metadata": {},
   "outputs": [],
   "source": [
    "조건문\n",
    "\n",
    "만약 ☆☆이라면\n",
    "□□해줘\n",
    "그게 아니라 ◇◇이면\n",
    "△△해줘\n",
    "아니라면\n",
    "○○해줘\n",
    "\n",
    "---------------\n",
    "\n",
    "if ☆☆ : \n",
    "    □□\n",
    "elif ◇◇:\n",
    "    △△\n",
    "else :\n",
    "    ○○"
   ]
  },
  {
   "cell_type": "code",
   "execution_count": 25,
   "metadata": {},
   "outputs": [
    {
     "name": "stdout",
     "output_type": "stream",
     "text": [
      "50 이하\n"
     ]
    }
   ],
   "source": [
    "dust = 50\n",
    "\n",
    "if dust > 50:\n",
    "    print(\"50 초과\")\n",
    "else : \n",
    "    print(\"50 이하\")"
   ]
  },
  {
   "cell_type": "code",
   "execution_count": 53,
   "metadata": {},
   "outputs": [
    {
     "name": "stdout",
     "output_type": "stream",
     "text": [
      "나쁨\n"
     ]
    }
   ],
   "source": [
    "# 미세먼지농도(dust)가 150보다 크다면 \"매우나쁨\"\n",
    "# 미세먼지농도가 80초과 150이하면 \"나쁨\"\n",
    "# 그게 아니라면 좋음으로 출력해줘\n",
    "\n",
    "dust = 90\n",
    "\n",
    "if dust>150:\n",
    "    print(\"매우나쁨\")\n",
    "elif dust>80:\n",
    "    print(\"나쁨\")\n",
    "else:\n",
    "    print(\"좋음\")\n"
   ]
  },
  {
   "cell_type": "markdown",
   "metadata": {},
   "source": [
    "반복문 while/for\n",
    "\n",
    "while \n",
    "    만약 ~~ 라면 \n",
    "    계속 ☆☆ 해줘\n",
    "\n",
    "while ~~:\n",
    "    ☆☆\n",
    "\n",
    "```\n",
    "n = 0\n"
   ]
  },
  {
   "cell_type": "code",
   "execution_count": null,
   "metadata": {},
   "outputs": [],
   "source": [
    "n = 0\n",
    "while n<5:\n",
    "    print(n)\n",
    "    n = n+1"
   ]
  },
  {
   "cell_type": "code",
   "execution_count": null,
   "metadata": {},
   "outputs": [],
   "source": [
    "n = 0\n",
    "while n<5:\n",
    "    print(\"hello\")\n",
    "    n = n+1"
   ]
  },
  {
   "cell_type": "markdown",
   "metadata": {},
   "source": [
    "for\n",
    "~~에 있는 ☆☆을 이용해서 ○○해줘\n",
    "여러개의 값을 저장하는 변수에서 반복하여 값을 꺼내서 사용.\n",
    "\n",
    "for ☆☆ in ~~:\n",
    "    ○○"
   ]
  },
  {
   "cell_type": "code",
   "execution_count": 35,
   "metadata": {},
   "outputs": [
    {
     "name": "stdout",
     "output_type": "stream",
     "text": [
      "돼지불백\n",
      "지코바치밥\n",
      "설렁탕\n"
     ]
    }
   ],
   "source": [
    "lunch = [\"돼지불백\", \"지코바치밥\", \"설렁탕\"]\n",
    "for value in lunch:\n",
    "    print(value)"
   ]
  },
  {
   "cell_type": "markdown",
   "metadata": {},
   "source": [
    "while vs for\n",
    "while : 조건이 True인 경우 반복적으로 실행되기에 종료 조건이 반드시 필요.\n",
    "f o r : 정해진 범위를 반복하기에 종료조건이 필요 없음."
   ]
  },
  {
   "cell_type": "markdown",
   "metadata": {},
   "source": [
    "함수\n",
    "\n",
    "input => FUNCTION => output \n",
    "어떤 기능을 하는 코드 덩어리들을 모아 놓은 것\n",
    "```\n",
    "print(\"x\")\n",
    "```\n",
    "\n",
    "모듈 \n",
    "1. 함수가 포함된 파일을 불러와서 사용할 수 있다. import\n",
    "    ex) random모듈"
   ]
  },
  {
   "cell_type": "code",
   "execution_count": 42,
   "metadata": {},
   "outputs": [
    {
     "name": "stdout",
     "output_type": "stream",
     "text": [
      "설렁탕\n",
      "[7, 9, 6]\n"
     ]
    }
   ],
   "source": [
    "import random \n",
    "lunch = [\"돼지불백\", \"지코바치밥\", \"설렁탕\"]\n",
    "print(random.choice(lunch))\n",
    "\n",
    "numbers = [1,2,3,4,5,6,7,8,9,10]\n",
    "pick = random.sample(numbers, 3)\n",
    "print(pick)"
   ]
  },
  {
   "cell_type": "code",
   "execution_count": null,
   "metadata": {},
   "outputs": [],
   "source": [
    "# 구구단\n",
    "for i in range(1, 10):   # range(1, 10) : 1이상 10미만 숫자 모음을 만들어 준다.\n",
    "    \n",
    "    print(f\"=={i} 단==\")\n",
    "    for j in range(1, 10):\n",
    "        print(f\"{i}*{j} = {i*j}\")"
   ]
  },
  {
   "cell_type": "code",
   "execution_count": 60,
   "metadata": {},
   "outputs": [
    {
     "name": "stdout",
     "output_type": "stream",
     "text": [
      "[24, 12, 11, 25, 1, 14]\n"
     ]
    }
   ],
   "source": [
    "# 로또 자동 추첨기\n",
    "\n",
    "# 로또의 번호 범위는 1~45\n",
    "# 6개의 숫자를 뽑아서 출력하는 코드\n",
    "\n",
    "import random\n",
    "numbers = range(1, 46)\n",
    "pick=random.sample(numbers, 6)\n",
    "print(pick)\n"
   ]
  }
 ],
 "metadata": {
  "kernelspec": {
   "display_name": "Python 3",
   "language": "python",
   "name": "python3"
  },
  "language_info": {
   "codemirror_mode": {
    "name": "ipython",
    "version": 3
   },
   "file_extension": ".py",
   "mimetype": "text/x-python",
   "name": "python",
   "nbconvert_exporter": "python",
   "pygments_lexer": "ipython3",
   "version": "3.9.13"
  },
  "orig_nbformat": 4
 },
 "nbformat": 4,
 "nbformat_minor": 2
}
