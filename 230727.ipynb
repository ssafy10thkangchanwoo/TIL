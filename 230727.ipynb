{
 "cells": [
  {
   "cell_type": "markdown",
   "metadata": {},
   "source": [
    "## Class 상속\n",
    "\n",
    "### Inheritance\n",
    "    기존 클래스의 속성과 메서드를 물려받아 새로운 하위 클래스를 생성하는 것\n",
    "\n",
    "### 상속이 필요한 이유\n",
    "    1. 코드의 재사용\n",
    "    2. 계층구조\n",
    "    3. 유지보수의 용이성"
   ]
  },
  {
   "cell_type": "markdown",
   "metadata": {},
   "source": [
    "## 다중상속\n",
    "    - 두 개 이상의 클래스를 상속 받는 경우\n",
    "    - 상속받은 모든 클래스의 요소를 활용 가능함.\n",
    "    - 중복된 속성이나 메서드가 있는 경우 상속 순서에 의해 결정됨(첫번째 것이 상속됨)\n",
    "    "
   ]
  },
  {
   "cell_type": "markdown",
   "metadata": {},
   "source": [
    "### mro() : Method Resolution Order\n",
    "    - 기존의 인스턴스 ->클래스 순으로 이름 공간을 탐색하는 과정에서 상속관계에 있으면 인스턴스->자식클래스->부모클래스로 확장"
   ]
  },
  {
   "cell_type": "markdown",
   "metadata": {},
   "source": [
    "## 에러와 예외\n",
    "-에러와 예외도 각각의 클래스로 구현되어 있음.\n",
    "\n",
    "### Syntax Error(문법 에러)\n",
    "    프로그램 구문이 올바르지 않은 경우 발생(오타, 괄호 및 콜론 누락 등)\n",
    "\n",
    "### Exception(예외)\n",
    "    프로그램 실행 중에 감지되는 에러\n",
    "## Error\n",
    "    프로그램 실행 중에 발생하는 예외 상황\n",
    "\n",
    "## 버그\n",
    " - 소프트웨어에서 발생하는 오류 또는 결함, 프로그램의 예상된 동작과 실제 동작 사이의 불일치\n",
    "\n",
    "## Debugging\n",
    " - 소프트웨어에서 발생하는 버그를 찾아내고 수정하는 과정\n"
   ]
  },
  {
   "cell_type": "markdown",
   "metadata": {},
   "source": [
    "### 문법 에러 예시(SyntaxError)\n",
    "    1. Invalid syntax(문법 오류)\n",
    "    2. assign to literal \n",
    "    3. EOL\n",
    "    4. EOF\n",
    "\n",
    "### 예외(문법에러가 아닌 에러)\n",
    "    - Bult-in Exception(내장 예외)\n",
    "\n",
    "ZeroDivisionError:0으로 나눌 때 발생하는 에러\n",
    "NameError:지역 또는 전역 이름을 찾을 수 없을 때 발생\n",
    "TypeError: 타입 불일치, 인자 누락, 인자 초과, 인자 타입 불일치, \n",
    "ValueError: 연산이나 함수에 문제가 없지만 부적절한 값을 인자로 받았고, 상황이 IndexError처럼 더 구체적인 예외로 설명되지 않는 경우 발생\n",
    "IndexError: 시퀀스 인덱스가 범위를 벗어날 때 발생\n",
    "KeyError:딕셔너리에 해당 키가 존재하지 않을 경우\n",
    "ModuleNotFoundError:모듈을 찾을 수 없을 때 발생\n",
    "ImportError: 임포트 하려는 이름을 찾을 수 없을 때 발생\n",
    "KeyboardInterrupt: 사용자가 Control-C 또는 Delete를 누를 때 발생\n",
    "IndentationError: 잘못된 들여쓰기와 관련된 문법 오류\n"
   ]
  },
  {
   "cell_type": "code",
   "execution_count": 32,
   "metadata": {},
   "outputs": [
    {
     "ename": "SyntaxError",
     "evalue": "invalid syntax (3628463218.py, line 2)",
     "output_type": "error",
     "traceback": [
      "\u001b[1;36m  Cell \u001b[1;32mIn[32], line 2\u001b[1;36m\u001b[0m\n\u001b[1;33m    while\u001b[0m\n\u001b[1;37m         ^\u001b[0m\n\u001b[1;31mSyntaxError\u001b[0m\u001b[1;31m:\u001b[0m invalid syntax\n"
     ]
    }
   ],
   "source": [
    "# Invalid syntax\n",
    "while"
   ]
  },
  {
   "cell_type": "code",
   "execution_count": 33,
   "metadata": {},
   "outputs": [
    {
     "ename": "SyntaxError",
     "evalue": "cannot assign to literal (3962777194.py, line 2)",
     "output_type": "error",
     "traceback": [
      "\u001b[1;36m  Cell \u001b[1;32mIn[33], line 2\u001b[1;36m\u001b[0m\n\u001b[1;33m    5=3\u001b[0m\n\u001b[1;37m    ^\u001b[0m\n\u001b[1;31mSyntaxError\u001b[0m\u001b[1;31m:\u001b[0m cannot assign to literal\n"
     ]
    }
   ],
   "source": [
    "# assign to literal\n",
    "5=3"
   ]
  },
  {
   "cell_type": "code",
   "execution_count": 36,
   "metadata": {},
   "outputs": [
    {
     "ename": "SyntaxError",
     "evalue": "EOL while scanning string literal (4029209963.py, line 2)",
     "output_type": "error",
     "traceback": [
      "\u001b[1;36m  Cell \u001b[1;32mIn[36], line 2\u001b[1;36m\u001b[0m\n\u001b[1;33m    print('hello\u001b[0m\n\u001b[1;37m                ^\u001b[0m\n\u001b[1;31mSyntaxError\u001b[0m\u001b[1;31m:\u001b[0m EOL while scanning string literal\n"
     ]
    }
   ],
   "source": [
    "# EOL(End of Line)   # 한줄의 끝\n",
    "print('hello"
   ]
  },
  {
   "cell_type": "code",
   "execution_count": 37,
   "metadata": {},
   "outputs": [
    {
     "ename": "SyntaxError",
     "evalue": "unexpected EOF while parsing (4181964914.py, line 2)",
     "output_type": "error",
     "traceback": [
      "\u001b[1;36m  Cell \u001b[1;32mIn[37], line 2\u001b[1;36m\u001b[0m\n\u001b[1;33m    print(\u001b[0m\n\u001b[1;37m          ^\u001b[0m\n\u001b[1;31mSyntaxError\u001b[0m\u001b[1;31m:\u001b[0m unexpected EOF while parsing\n"
     ]
    }
   ],
   "source": [
    "# EOF(End of File)   # 파일 자체의 끝\n",
    "print("
   ]
  },
  {
   "cell_type": "markdown",
   "metadata": {},
   "source": [
    "## Try, except\n",
    "\n",
    "\n",
    "\n",
    "- as 키워드\n",
    "    as키워드를 사용하여 error(변수명)메시지를 except 블록에서 사용할 수 있음"
   ]
  },
  {
   "cell_type": "markdown",
   "metadata": {},
   "source": [
    "## 예외처리와 값 검사에 대한 2가지 접근방식\n",
    "\n",
    "### 1.EAFP\n",
    "    Easier to Ask for Forgiveness than Permission\n",
    "    예외처리를 중심으로 코드를 작성하는 접근 방식\n",
    "    >> try-exxcept 방식\n",
    "\n",
    "### 2. LBYL\n",
    "    Look BEfore You Leep\n",
    "    값 검사를 중심으로 코드를 작성하는 접근 방식\n",
    "    >> if-else"
   ]
  },
  {
   "cell_type": "markdown",
   "metadata": {},
   "source": [
    "# OPP의 핵심 개념\n",
    "1. 추상화(abstraction)\n",
    "2. 상속(Inheritance)\n",
    "3. 다형성(Polymophism)\n",
    "4. 캡슐화(Encapsulation)\n",
    "\n",
    "## 추상화\n",
    "    세부적인 내용은 감추고 필요한 부분만 표현하는 것을 말한다.\n",
    "\n",
    "## 상속\n",
    "    부모 - 자식\n",
    "    코드의 재사용성을 위해 사용한다.\n",
    "    부모클래스에서 정의해 놓은 기능을 자식클래스에서 다시 만들지 않고 사용할 수 있다.\n",
    "\n",
    "## 다형성\n",
    "    여러 모양을 뜻한다. 동일한 메서드가 클래스에 따라 다르게 행동할 수 있다.\n",
    "    서로 다른 클래스에 속해 있는 객체들이 동일한 메시지에 대해 각기 다른 방식으로 동작\n",
    "    * 메서드 오버라이딩: 상속받은 메서드를 그대로 사용하는게 아니라 자신에 맞게 다시 재정의\n",
    "        \n",
    "\n",
    "## 캡슐화\n",
    "    객체의 일부 구현 내용에 대해 외부로부터 직접적인 접근을 차단한다."
   ]
  },
  {
   "cell_type": "code",
   "execution_count": 25,
   "metadata": {},
   "outputs": [
    {
     "name": "stdout",
     "output_type": "stream",
     "text": [
      "person init\n",
      "hello\n",
      "person init\n",
      "Dad init\n",
      "mon init\n",
      "XX\n",
      "(<class '__main__.Child'>, <class '__main__.Mom'>, <class '__main__.Dad'>, <class '__main__.Person'>, <class 'object'>)\n"
     ]
    }
   ],
   "source": [
    "class Person:\n",
    "\n",
    "    def __init__(self, name):\n",
    "        self.name = name\n",
    "        print(\"person init\")\n",
    "\n",
    "    def greeting(self):\n",
    "        print(\"hello\")\n",
    "    \n",
    "class Student(Person):\n",
    "    def __init__(self, name):\n",
    "        super().__init__(name)\n",
    "        # Person.__init__(self)\n",
    "\n",
    "s1 = Student(\"chanwoo\")\n",
    "s1.greeting()\n",
    "\n",
    "class Mom(Person):\n",
    "    gene = \"XX\"\n",
    "\n",
    "    def __init__(self, name, age):\n",
    "        super().__init__(name)\n",
    "        self.age = age \n",
    "        print(\"mon init\")\n",
    "\n",
    "class Dad(Person):\n",
    "    gene = \"XY\"\n",
    "    def __init__(self, name):\n",
    "        super().__init__(name)\n",
    "        print(\"Dad init\")    \n",
    "\n",
    "class Child(Mom, Dad):\n",
    "    \n",
    "    def __init__(self, name, age):\n",
    "        super().__init__(name, age)\n",
    "        # Mom.__init__(self, name, age)\n",
    "        # Dad.__init__(self, name) # 특별한 경우 아니면 부모 클래스 이름으로 호출하는 것은 지양\n",
    "        \n",
    "\n",
    "\n",
    "c1 = Child(\"chanwoo\", 12)\n",
    "print(c1.gene)\n",
    "print(Child.__mro__)\n",
    "\n"
   ]
  },
  {
   "cell_type": "code",
   "execution_count": 15,
   "metadata": {},
   "outputs": [
    {
     "name": "stdout",
     "output_type": "stream",
     "text": [
      "안녕하세요 저는 chanwoo입니다.\n",
      "충성! 저는 20전비 소속의 chanwoo입니다.\n"
     ]
    }
   ],
   "source": [
    "## 다형성\n",
    "\n",
    "class Person:\n",
    "    def __init__(self, name):\n",
    "        self.name = name\n",
    "\n",
    "    def talk(self):\n",
    "        print(f\"안녕하세요 저는 {self.name}입니다.\")\n",
    "\n",
    "class Soldier(Person):\n",
    "    def __init__(self, name, army):\n",
    "        super().__init__(name)\n",
    "        self.army = army\n",
    "\n",
    "    def talk(self):\n",
    "        print(f\"충성! 저는 {self.army} 소속의 {self.name}입니다.\")\n",
    "\n",
    "    \n",
    "    \n",
    "p1 = Person(\"chanwoo\")\n",
    "s1 = Soldier(\"chanwoo\", \"20전비\")\n",
    "\n",
    "p1.talk()\n",
    "s1.talk()"
   ]
  },
  {
   "cell_type": "code",
   "execution_count": 31,
   "metadata": {},
   "outputs": [
    {
     "name": "stdout",
     "output_type": "stream",
     "text": [
      "15\n",
      "나이가 잘못되었다.\n",
      "20\n"
     ]
    }
   ],
   "source": [
    "class Person:\n",
    "    def __init__(self, name, age):\n",
    "        self.name = name\n",
    "        self.__age = age\n",
    "\n",
    "    def get_age(self):\n",
    "        return self.__age\n",
    "    \n",
    "    def set_age(self, age):\n",
    "        if type(age) == str:\n",
    "            print(\"나이가 잘못되었다.\")\n",
    "            return\n",
    "        self.__age = age\n",
    "\n",
    "\n",
    "# print(p1.__age) # 변수에 직접 접근하는 것을 차단한다.\n",
    "p1 = Person(\"chanwoo\", 15) \n",
    "print(p1.get_age()) # 메소드를 통해서만 접근하도록 설계\n",
    "\n",
    "p1.set_age(20)\n",
    "p1.set_age(\"문자열\")\n",
    "print(p1.get_age())"
   ]
  }
 ],
 "metadata": {
  "kernelspec": {
   "display_name": "Python 3",
   "language": "python",
   "name": "python3"
  },
  "language_info": {
   "codemirror_mode": {
    "name": "ipython",
    "version": 3
   },
   "file_extension": ".py",
   "mimetype": "text/x-python",
   "name": "python",
   "nbconvert_exporter": "python",
   "pygments_lexer": "ipython3",
   "version": "3.9.13"
  },
  "orig_nbformat": 4
 },
 "nbformat": 4,
 "nbformat_minor": 2
}
