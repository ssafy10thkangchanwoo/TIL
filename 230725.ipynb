{
 "cells": [
  {
   "cell_type": "markdown",
   "metadata": {},
   "source": [
    "### set\n",
    "고유한 항목(중복없음)의 정렬되지 않은 컬렉션"
   ]
  },
  {
   "cell_type": "markdown",
   "metadata": {},
   "source": [
    "### set 메서드\n",
    ".add(x) 세트에 x를 추가\n",
    ".clear() 세트의 모든 항목을 제거\n",
    ".remove(x) 세트에서 항목 x 를 제거\n",
    ".pop() : 세트에서 랜덤하게 항목을 제거하고 반환\n",
    ".discard(x) 세트에서 항목 x를 제거\n",
    ".update(interable) 세트에서 다른 iterable요소를 추가"
   ]
  },
  {
   "cell_type": "code",
   "execution_count": 1,
   "metadata": {},
   "outputs": [
    {
     "name": "stdout",
     "output_type": "stream",
     "text": [
      "{1, 2, 3, 4}\n"
     ]
    }
   ],
   "source": [
    "# # add\n",
    "my_set = {1, 2, 3}\n",
    "my_set.add(4)\n",
    "print(my_set)\n",
    "\n",
    "my_set.add(4)\n",
    "print(my_set)\n",
    "\n",
    "# # clear\n",
    "my_set = {1, 2, 3}\n",
    "my_set.clear()\n",
    "print(my_set)    # set(),   빈중괄호{}는 dictionary로 됨.\n",
    "\n",
    "# remove\n",
    "my_set = {1, 2, 3}\n",
    "my_set.remove(2)\n",
    "print(my_set)  \n",
    "\n",
    "print(my_set.remove(10))  # KeyError: 10\n",
    "\n",
    "# discard\n",
    "my_set = {1, 2, 3}\n",
    "my_set.discard(2)\n",
    "print(my_set)  \n",
    "\n",
    "print(my_set.discard(10)) \n",
    "# discard는 remove와 달리 없는 값을 삭제해도 에러없음, None 출력\n",
    "\n",
    "# pop\n",
    "my_set = {1, 2, 3}\n",
    "element = my_set.pop()\n",
    "print(element)\n",
    "\n",
    "\n",
    "# update(iteratble)\n",
    "my_set = {1, 2, 3}\n",
    "my_set.update = {4, 5, 1}\n",
    "print(my_set)"
   ]
  },
  {
   "cell_type": "code",
   "execution_count": null,
   "metadata": {},
   "outputs": [],
   "source": [
    "## 세트의 집합 메서드\n",
    "\n",
    "set1 = {0, 1, 2, 3, 4}\n",
    "set2 = {1, 3, 5, 7, 39}\n",
    "set3 = {1, 4}\n",
    "print(set1.difference(set2))\n",
    "print(set1.intersection(set2))\n",
    "print(set1.issubset(set2))\n",
    "print(set3.isup)\n",
    "print(set1.union(set2))\n"
   ]
  },
  {
   "cell_type": "markdown",
   "metadata": {},
   "source": [
    "### dictionary\n",
    "고유한 항목들의 정렬되지 않는 컬렉션"
   ]
  },
  {
   "cell_type": "markdown",
   "metadata": {},
   "source": [
    "### dictionary 메서드\n",
    "clear() : 딕셔너리 키, 값의 쌍을 제거\n",
    "get(k[,default]) : 키에 열거된 값을 반환하거나, 키가 없으면 None 혹은 기본값 출력\n",
    "keys() : 딕셔너리 키를 모은 객체를 반환\n",
    "values() : 딕셔너리 값을 모은 객체를 반환\n",
    "items() : key, value 키/값의 쌍을 모은 객체를 반환\n",
    "pop(k[,default]) : 키를 제거하고 연결됐던 값을 반환, 없으면 key error나 dafult출력\n",
    "setdefault(k[,deafult]) : 키와 연결된 값을 반환, 키가 없으면 default와 연결한 키를 딕셔너리에 추가하고 default 반환\n",
    "update(other) : 다른 딕셔너리를 갱신, 기존 키는 덮어 씀"
   ]
  },
  {
   "cell_type": "code",
   "execution_count": 2,
   "metadata": {},
   "outputs": [
    {
     "name": "stdout",
     "output_type": "stream",
     "text": [
      "[]\n"
     ]
    }
   ],
   "source": [
    "#clear\n",
    "my_list = [1, 2, 3, 4, 5]\n",
    "my_list.clear()\n",
    "print(my_list)"
   ]
  },
  {
   "cell_type": "code",
   "execution_count": 4,
   "metadata": {},
   "outputs": [
    {
     "name": "stdout",
     "output_type": "stream",
     "text": [
      "Alice\n",
      "None\n",
      "Unknown\n",
      "Alice\n"
     ]
    },
    {
     "ename": "KeyError",
     "evalue": "'country'",
     "output_type": "error",
     "traceback": [
      "\u001b[1;31m---------------------------------------------------------------------------\u001b[0m",
      "\u001b[1;31mKeyError\u001b[0m                                  Traceback (most recent call last)",
      "Cell \u001b[1;32mIn[4], line 10\u001b[0m\n\u001b[0;32m      7\u001b[0m \u001b[39m# get과 [ ] 차이\u001b[39;00m\n\u001b[0;32m      9\u001b[0m \u001b[39mprint\u001b[39m(person[\u001b[39m'\u001b[39m\u001b[39mname\u001b[39m\u001b[39m'\u001b[39m])\n\u001b[1;32m---> 10\u001b[0m \u001b[39mprint\u001b[39m(person[\u001b[39m'\u001b[39;49m\u001b[39mcountry\u001b[39;49m\u001b[39m'\u001b[39;49m]) \u001b[39m# KeyError: 'country'\u001b[39;00m\n",
      "\u001b[1;31mKeyError\u001b[0m: 'country'"
     ]
    }
   ],
   "source": [
    "# get(key[,default])\n",
    "person = {'name': 'Alice', 'age' : 25}\n",
    "print(person.get('name'))\n",
    "print(person.get('country')) #default값이 none\n",
    "print(person.get('country', 'Unknown'))\n",
    "\n",
    "# get과 [ ] 차이\n",
    "\n",
    "print(person['name'])\n",
    "print(person['country']) # KeyError: 'country'"
   ]
  },
  {
   "cell_type": "code",
   "execution_count": 6,
   "metadata": {},
   "outputs": [
    {
     "name": "stdout",
     "output_type": "stream",
     "text": [
      "dict_keys(['name', 'age'])\n",
      "name\n",
      "age\n"
     ]
    }
   ],
   "source": [
    "# #keys()\n",
    "person = {'name': 'Alice', 'age' : 25}\n",
    "print(person.keys())  # dict_keys(['name', 'age']), 리스트형으로 출력된다는 것이 관전포인트\n",
    "for key in person.keys():\n",
    "    print(key)"
   ]
  },
  {
   "cell_type": "code",
   "execution_count": 8,
   "metadata": {},
   "outputs": [
    {
     "name": "stdout",
     "output_type": "stream",
     "text": [
      "dict_values(['Alice', 25])\n",
      "Alice\n",
      "25\n"
     ]
    }
   ],
   "source": [
    "# #values()\n",
    "person = {'name': 'Alice', 'age' : 25}\n",
    "print(person.values())  # dict_keys(['name', 'age']), 리스트형으로 출력된다는 것이 관전포인트\n",
    "for value in person.values():\n",
    "    print(value)"
   ]
  },
  {
   "cell_type": "code",
   "execution_count": 9,
   "metadata": {},
   "outputs": [
    {
     "name": "stdout",
     "output_type": "stream",
     "text": [
      "dict_items([('name', 'Alice'), ('age', 25)])\n",
      "name Alice\n",
      "age 25\n"
     ]
    }
   ],
   "source": [
    "# items\n",
    "person = {'name': 'Alice', 'age' : 25}\n",
    "print(person.items())  #튜플형식으로 반환\n",
    "for key, value in person.items():\n",
    "    print(key, value)"
   ]
  },
  {
   "cell_type": "code",
   "execution_count": 10,
   "metadata": {},
   "outputs": [
    {
     "name": "stdout",
     "output_type": "stream",
     "text": [
      "25\n",
      "country 키는 없어요\n"
     ]
    }
   ],
   "source": [
    "# pop(key[,default])\n",
    "person = {'name': 'Alice', 'age' : 25}\n",
    "print(person.pop('age'))\n",
    "# print(person.pop('country')) # KeyError: 'country'\n",
    "print(person.pop('country', 'country 키는 없어요'))"
   ]
  },
  {
   "cell_type": "code",
   "execution_count": 11,
   "metadata": {},
   "outputs": [
    {
     "name": "stdout",
     "output_type": "stream",
     "text": [
      "25\n",
      "{'name': 'Alice', 'age': 25}\n"
     ]
    }
   ],
   "source": [
    "# setdefault(key[,default])\n",
    "person = {'name': 'Alice', 'age' : 25}\n",
    "print(person.setdefault('age', '50'))\n",
    "# print(person.setdefault('country', 'KOREA'))\n",
    "print(person)"
   ]
  },
  {
   "cell_type": "code",
   "execution_count": 13,
   "metadata": {},
   "outputs": [
    {
     "name": "stdout",
     "output_type": "stream",
     "text": [
      "{'name': 'Jane', 'age': 25, 'gender': 'Female'}\n"
     ]
    }
   ],
   "source": [
    "# update([other])\n",
    "person = {'name': 'Alice', 'age' : 25}\n",
    "other_person = {'name': 'Jane', 'gender': 'Female'}\n",
    "person.update(other_person)\n",
    "print(person)"
   ]
  },
  {
   "cell_type": "markdown",
   "metadata": {},
   "source": [
    "### 변경 가능한 데이터타입의 복사\n",
    "### 변경 불가능한 데이터타입의 복사"
   ]
  },
  {
   "cell_type": "code",
   "execution_count": 14,
   "metadata": {},
   "outputs": [
    {
     "name": "stdout",
     "output_type": "stream",
     "text": [
      "[100, 2, 3, 4]\n",
      "[100, 2, 3, 4]\n"
     ]
    }
   ],
   "source": [
    "# 변경가능(리스트, 딕셔너리, 집합)\n",
    "a = [1, 2, 3, 4]\n",
    "b = a \n",
    "b[0] = 100\n",
    "\n",
    "print(a)\n",
    "print(b)"
   ]
  },
  {
   "cell_type": "code",
   "execution_count": 15,
   "metadata": {},
   "outputs": [
    {
     "name": "stdout",
     "output_type": "stream",
     "text": [
      "20\n",
      "10\n"
     ]
    }
   ],
   "source": [
    "# 변경불가능데이터(정수, 실수, 불, 문자열, 튜플 등)\n",
    "a = 20\n",
    "b = a\n",
    "b = 10\n",
    "\n",
    "print(a)\n",
    "print(b)"
   ]
  },
  {
   "cell_type": "markdown",
   "metadata": {},
   "source": [
    "## 복사유형\n",
    "1. 할당\n",
    "2. 얕은 복사\n",
    "3. 깊은 복사"
   ]
  },
  {
   "cell_type": "code",
   "execution_count": 17,
   "metadata": {},
   "outputs": [
    {
     "name": "stdout",
     "output_type": "stream",
     "text": [
      "[1, 2, 3] [1, 2, 3]\n",
      "['hi', 2, 3] ['hi', 2, 3]\n"
     ]
    }
   ],
   "source": [
    "# # 할당 (리스트 복사)\n",
    "original_list = [1, 2, 3]\n",
    "copy_list = original_list\n",
    "print(original_list, copy_list)\n",
    "copy_list[0] = 'hi'\n",
    "print(original_list, copy_list)\n"
   ]
  },
  {
   "cell_type": "code",
   "execution_count": 18,
   "metadata": {},
   "outputs": [
    {
     "name": "stdout",
     "output_type": "stream",
     "text": [
      "[1, 2, 3] [100, 2, 3]\n"
     ]
    }
   ],
   "source": [
    "#얕은복사\n",
    "# 슬라이싱\n",
    "a = [1, 2, 3]\n",
    "b = a[:]\n",
    "b[0] = 100\n",
    "print(a, b)"
   ]
  },
  {
   "cell_type": "code",
   "execution_count": 20,
   "metadata": {},
   "outputs": [
    {
     "name": "stdout",
     "output_type": "stream",
     "text": [
      "[1, 2, [999, 2]] [1, 2, [999, 2]]\n"
     ]
    }
   ],
   "source": [
    "# 얕은 복사의 한계 \n",
    "a = [1, 2, [1, 2]]\n",
    "\n",
    "b = a[:]\n",
    "b[2][0] = 999\n",
    "print(a, b)"
   ]
  },
  {
   "cell_type": "code",
   "execution_count": 21,
   "metadata": {},
   "outputs": [
    {
     "name": "stdout",
     "output_type": "stream",
     "text": [
      "[1, 2, [1, 2]] [1, 2, [999, 2]]\n"
     ]
    }
   ],
   "source": [
    "# 깊은 복사\n",
    "# 깊은 복사\n",
    "import copy\n",
    "original_list = [1, 2, [1, 2]]\n",
    "deep_copied_list = copy.deepcopy(original_list)\n",
    "deep_copied_list[2][0] = 999\n",
    "print(original_list, deep_copied_list)"
   ]
  }
 ],
 "metadata": {
  "kernelspec": {
   "display_name": "Python 3",
   "language": "python",
   "name": "python3"
  },
  "language_info": {
   "codemirror_mode": {
    "name": "ipython",
    "version": 3
   },
   "file_extension": ".py",
   "mimetype": "text/x-python",
   "name": "python",
   "nbconvert_exporter": "python",
   "pygments_lexer": "ipython3",
   "version": "3.9.13"
  },
  "orig_nbformat": 4
 },
 "nbformat": 4,
 "nbformat_minor": 2
}
