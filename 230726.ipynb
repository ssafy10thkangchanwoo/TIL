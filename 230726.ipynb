{
 "cells": [
  {
   "cell_type": "markdown",
   "metadata": {},
   "source": [
    "## Procedural Programming (절차지향 프로그래밍)\n",
    "    프로그램을 '데이터'와 '절차'로 구분하는 방식의 프로그래밍 패러다임\n",
    "\n",
    "### \"데이터\"와 \"함수\"가 분리되어 있음, 함수의 호출 흐름이 중요\n",
    "    처음부터 끝까지 실행되는 결과물이 중요한 방식\n",
    "\n",
    "### Software Crisis(소프트웨어의 위기)\n",
    "    복잡성이 급격히 증가\n",
    "\n"
   ]
  },
  {
   "cell_type": "markdown",
   "metadata": {},
   "source": [
    "## Object Oriented Programming(객체지향 프로그래밍)\n",
    "    데이터와 해당 데이터를 조작하는 매서드를 하나의 객체로 묶어 관리하는 방식의 프로그래밍 패러다임"
   ]
  },
  {
   "cell_type": "markdown",
   "metadata": {},
   "source": [
    "### 함수(데이터)   함수가 ~한다\n",
    "### 데이터(객체).메서드 데이터가 ~ 한다"
   ]
  },
  {
   "cell_type": "markdown",
   "metadata": {},
   "source": [
    "## Object(객체)\n",
    "    class에서 정의한 것을 토대로 메모리에 할당된 것\n",
    "    '속성(변수)'과 '행동(메서드)'으로 구성된 모든 것\n",
    "    (파이썬에 존재하는 모든 개념을 객체라고도 할 수 있음..)\n",
    "\n",
    "### Class\n",
    "    파이썬에서 타입을 표현하는 방법\n",
    "    객체를 생성하기 위한 설계도(blue print)\n",
    "    데이터와 기능을 함께 묶는 방법을 제공\n",
    "\n",
    "### instance(인스턴스)\n",
    "    class로 만든 객체를 인스턴스라고 함. . . ( ? ?)\n"
   ]
  },
  {
   "cell_type": "markdown",
   "metadata": {},
   "source": [
    "### 클래스와 객체\n",
    "- 변수 name의 타입은 str 클래스다.\n",
    "- 변수 name은 str클래스의 인스턴스이다.\n",
    "- 우리가 사용해왔던 데이터 타입은 모두 클래스였다.\n",
    "\n",
    "\"Hello\".upper()\n",
    "문자열.대문자로()\n",
    "객체.행동()\n",
    "인스턴스.메서드()\n",
    "\n",
    "[1, 2, 3].sort()\n",
    "리스트.정렬해()\n",
    "객체.행동()\n",
    "인스턴스.메서드()\n",
    "\n",
    "하나의 객체는 특정타입의 인스턴스다.\n",
    "123, 900, 5는 모두 int의 인스턴스"
   ]
  },
  {
   "cell_type": "markdown",
   "metadata": {},
   "source": [
    "객체(object)의 특징\n",
    "    1. type : 어떤 연산자와 조작이 가능한가?\n",
    "    2. attribute : 어떤 상태(데이터)를 가지는가?\n",
    "    3. method : 어떤 행위(함수)를 할 수 있는가?\n",
    "    Object = attribute(속성) + Method(기능)"
   ]
  },
  {
   "cell_type": "markdown",
   "metadata": {},
   "source": [
    "## Class\n",
    "    파이썬에서 타입을 표현하는 방법"
   ]
  },
  {
   "cell_type": "markdown",
   "metadata": {},
   "source": [
    "*instance들이 들고 있는 것은 본인들의 변수.\n",
    " "
   ]
  },
  {
   "cell_type": "markdown",
   "metadata": {},
   "source": [
    "### 독립적인 이름공간을 가지는 이점\n",
    "    - 각 인스턴스는 독립적인 메모리 공간을 가지며, 클래스와 다른 인스턴스 간에는 서로의 데이터나 상태에 직접적인 접근이 불가능"
   ]
  },
  {
   "cell_type": "markdown",
   "metadata": {},
   "source": [
    "## 인스턴스 메서드\n",
    "클래스로부터 생성된 각 인스턴트에서 호출할 수 있는 메서드\n",
    " >> 인스턴스 상태를 조작하거나 동작을 실행\n",
    " ex: [1,2,3].append() \n",
    "\n",
    "### 구조\n",
    "반드시 첫 번째 매개변수로 인스턴스 자신(self)을 전달받음."
   ]
  },
  {
   "cell_type": "markdown",
   "metadata": {},
   "source": [
    "## 생성자 메서드(constructor method)\n",
    "    인스턴스 객체가 생성될 때 자동으로 호출되는 메서드\n",
    "    >>인스턴스 변수들의 초기값을 설정"
   ]
  },
  {
   "cell_type": "markdown",
   "metadata": {},
   "source": [
    "## Class method(클래스 메서드)\n",
    "    클래스가 호출하는 메서드\n",
    "    >> 클래스 변수를 조작하거나 클래스 레벨의 동작을 수행"
   ]
  },
  {
   "cell_type": "markdown",
   "metadata": {},
   "source": [
    "## static method(정적 메서드)\n",
    "    클래스와 인스턴스와 상관없이 독립적으로 동작하는 메서드\n",
    ">> 주로 클래스와 관련이 있지만 인스턴스와 상호작용이 필요하지 않는 경우"
   ]
  }
 ],
 "metadata": {
  "language_info": {
   "name": "python"
  },
  "orig_nbformat": 4
 },
 "nbformat": 4,
 "nbformat_minor": 2
}
