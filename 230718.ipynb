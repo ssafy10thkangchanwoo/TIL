{
 "cells": [
  {
   "cell_type": "markdown",
   "metadata": {},
   "source": [
    "## Datatypes\n",
    "값의 종류와 그 값에 적용 가능한 연산과 동작을 결정하는 속성\n",
    "\n",
    "## 데이터 타입이 필요한 이유\n",
    "값 구분, 데이터타입에 적합한 동작 가능, 읽는 사람의 이해도 up\n",
    "\n",
    "## Numeric Types\n",
    "### int(정수자료형)\n",
    "1. 진수표현\n",
    "    1.2진수(binary):0b\n",
    "    2. 8진수(octal):0o\n",
    "    3. 16진수(hexadecimal):0x\n",
    "    ex)print(0b10) #2\n"
   ]
  },
  {
   "cell_type": "code",
   "execution_count": 48,
   "metadata": {},
   "outputs": [
    {
     "name": "stdout",
     "output_type": "stream",
     "text": [
      "2\n",
      "24\n",
      "16\n",
      "0b1010\n"
     ]
    }
   ],
   "source": [
    "print(0b10)\n",
    "print(0o30)\n",
    "print(0x10)\n",
    "print(bin(10))"
   ]
  },
  {
   "cell_type": "markdown",
   "metadata": {},
   "source": [
    "### float(실수자료형)\n",
    "실수를 표현하는 자료형, float는 실수에 대한 근삿값/유한정밀도를 가짐/부동소수점에러가짐\n"
   ]
  },
  {
   "cell_type": "code",
   "execution_count": null,
   "metadata": {},
   "outputs": [
    {
     "name": "stdout",
     "output_type": "stream",
     "text": [
      "True\n",
      "True\n"
     ]
    }
   ],
   "source": [
    "a = 3.2 - 3.1 # 엄밀히 1보다 아주 좀 큼\n",
    "b = 1.2 - 1.1 # 엄밀히 1보다 아주 좀 작음\n",
    "# 1. 임의의 작은 수 활용\n",
    "print(abs(a-b) <= 1e-10)\n",
    "# 2. math 모듈 활용\n",
    "import math\n",
    "print(math.isclose(a,b))"
   ]
  },
  {
   "cell_type": "code",
   "execution_count": null,
   "metadata": {},
   "outputs": [
    {
     "name": "stdout",
     "output_type": "stream",
     "text": [
      "3.14\n",
      "31400.0\n"
     ]
    }
   ],
   "source": [
    "# 지수 표현, e는 10의 제곱 표현임.\n",
    "print(314e-2)\n",
    "print(314e2)\n"
   ]
  },
  {
   "cell_type": "markdown",
   "metadata": {},
   "source": [
    "## Sequence Types\n",
    "여러개의 값을 순서대로 나열하여 저장하는 자료형(str, list tuple range)\n",
    "\n",
    "### Sequence Types 특징\n",
    "1. 순서(Sequence)\n",
    "    값들이 순서대로 저장(정렬X)\n",
    "2. 인덱싱(Indexing)\n",
    "    각 값에 고유한 인덱스(번호)를 가지고 있으며, 인덱스를 사용하여 특정 위치의 값을 선택하거나 수정할 수 있음.\n",
    "3. 슬라이싱(Slicing)\n",
    "    인덱스의 범위를 조절해 부분적인 값 추출 가능\n",
    "4. 길이(Length)\n",
    "    len()함수를 사용하여 저장된 값의 개수(길이)를 구할 수 있음.\n",
    "5. 반복(Iteration)\n",
    "    반복문을 사용하여 저장된 값들을 반복적으로 처리할 수 있음."
   ]
  },
  {
   "cell_type": "markdown",
   "metadata": {},
   "source": [
    "### Str(문자열)\n",
    "문자들의 순서가 있는 변경 불가능한 시퀀스 자료형\n",
    "\n",
    "#### Escape sequence\n",
    "역슬래시 뒤에 특정 문자가 와서 특수한 기능을 하는 문자 조합\n",
    "\\n 줄 바꿈\n",
    "\\t 탭\n",
    "\\\\ 백슬래시\n",
    "\\' 작은 따옴표\n",
    "\\'' 큰 따옴표"
   ]
  },
  {
   "cell_type": "code",
   "execution_count": null,
   "metadata": {},
   "outputs": [
    {
     "name": "stdout",
     "output_type": "stream",
     "text": [
      "철수야 '안녕'\n"
     ]
    }
   ],
   "source": [
    "print('철수야 \\'안녕\\'')\n",
    "print('이 다음은 엔터\\n입니다.')"
   ]
  },
  {
   "cell_type": "markdown",
   "metadata": {},
   "source": [
    "### String Interpolation\n",
    "문자열 내에 변수나 표현식을 삽입하는 방법\n",
    "\n",
    "#### f-string"
   ]
  },
  {
   "cell_type": "markdown",
   "metadata": {},
   "source": []
  },
  {
   "cell_type": "code",
   "execution_count": 1,
   "metadata": {},
   "outputs": [
    {
     "name": "stdout",
     "output_type": "stream",
     "text": [
      "Debugging roaches 13 living room\n",
      "Debugging roaches 13 living room\n",
      "Debugging roaches 13 living room\n",
      "    hi    \n",
      "        hi\n",
      "3.1416\n"
     ]
    }
   ],
   "source": [
    "# f-string\n",
    "bugs = 'roaches'\n",
    "counts = 13\n",
    "area = 'living room'\n",
    "print(f'Debugging {bugs} {counts} {area}')\n",
    "\n",
    "# f-string이 없었을 때\n",
    "print('Debugging {} {} {}'.format(bugs, counts, area))\n",
    "# 더 이전에\n",
    "print('Debugging %s %d %s' % (bugs, counts, area))\n",
    "\n",
    "# f-string 응용\n",
    "greeting = 'hi'\n",
    "print(f'{greeting:^10}')\n",
    "print(f'{greeting:>10}')\n",
    "print(f'{3.141592:.4f}')"
   ]
  },
  {
   "cell_type": "markdown",
   "metadata": {},
   "source": [
    "#### 문자열 시퀀스의 특징\n",
    "인덱싱/슬라이싱/길이"
   ]
  },
  {
   "cell_type": "code",
   "execution_count": null,
   "metadata": {},
   "outputs": [
    {
     "name": "stdout",
     "output_type": "stream",
     "text": [
      "e\n",
      "ll\n",
      "5\n"
     ]
    }
   ],
   "source": [
    "my_str = 'hello'\n",
    "# 인덱싱\n",
    "print(my_str[1])  # e\n",
    "\n",
    "#슬라이싱\n",
    "print(my_str[2:4]) # ll\n",
    "\n",
    "# 길이\n",
    "print(len(my_str)) # 5"
   ]
  },
  {
   "cell_type": "markdown",
   "metadata": {},
   "source": [
    "### 인덱스\n",
    " 시퀀스 내의 값들을 대한 고휴 번호\n",
    " 각 값의 위치를 식별하는데 사용되는 숫자\n",
    " h e l l o\n",
    " 0 1 2 3 4 \n",
    "-5-4-3-2-1\n",
    "### slicing\n",
    "시퀀스의 일부분을 선택하여 추출하는 작업.\n",
    "시작 인덱스와 끝 인덱스를 지정하여 해당 범위 값을 포함하는 새로운 시퀀스 생성"
   ]
  },
  {
   "cell_type": "code",
   "execution_count": 49,
   "metadata": {},
   "outputs": [
    {
     "name": "stdout",
     "output_type": "stream",
     "text": [
      "ll\n",
      "hel\n",
      "lo\n",
      "hlo\n",
      "olleh\n"
     ]
    },
    {
     "ename": "TypeError",
     "evalue": "'str' object does not support item assignment",
     "output_type": "error",
     "traceback": [
      "\u001b[1;31m---------------------------------------------------------------------------\u001b[0m",
      "\u001b[1;31mTypeError\u001b[0m                                 Traceback (most recent call last)",
      "Cell \u001b[1;32mIn[49], line 8\u001b[0m\n\u001b[0;32m      5\u001b[0m \u001b[39mprint\u001b[39m(my_str[\u001b[39m0\u001b[39m:\u001b[39m5\u001b[39m:\u001b[39m2\u001b[39m])\n\u001b[0;32m      6\u001b[0m \u001b[39mprint\u001b[39m(my_str[::\u001b[39m-\u001b[39m\u001b[39m1\u001b[39m])\n\u001b[1;32m----> 8\u001b[0m my_str[\u001b[39m1\u001b[39;49m] \u001b[39m=\u001b[39m \u001b[39m'\u001b[39m\u001b[39mz\u001b[39m\u001b[39m'\u001b[39m \u001b[39m# 불가능, 문자열은 불변\u001b[39;00m\n",
      "\u001b[1;31mTypeError\u001b[0m: 'str' object does not support item assignment"
     ]
    }
   ],
   "source": [
    "my_str = 'hello'\n",
    "print(my_str[2:4])\n",
    "print(my_str[:3])\n",
    "print(my_str[3:])\n",
    "print(my_str[0:5:2])\n",
    "print(my_str[::-1])\n",
    "\n",
    "my_str[1] = 'z' # 불가능, 문자열은 불변"
   ]
  },
  {
   "cell_type": "markdown",
   "metadata": {},
   "source": [
    "### List\n",
    "여러 개의 값을 순서대로 저장하는 변경 가능한 시퀀스 자료형"
   ]
  },
  {
   "cell_type": "code",
   "execution_count": null,
   "metadata": {},
   "outputs": [
    {
     "name": "stdout",
     "output_type": "stream",
     "text": [
      "[1, 2, 3, 'python', ['hello', 'world', '!!!']]\n",
      "!!!\n",
      "w\n"
     ]
    }
   ],
   "source": [
    "my_list_1 = []\n",
    "my_list_2 = [1, 'a', 3, 'b', 5]\n",
    "my_list_3 = [1, 2, 3, 'python', ['hello', 'world', '!!!']]\n",
    "\n",
    "print(my_list_3)\n",
    "print(my_list_3[4][-1])\n",
    "print(my_list_3[-1][1][0])\n"
   ]
  },
  {
   "cell_type": "code",
   "execution_count": null,
   "metadata": {},
   "outputs": [
    {
     "name": "stdout",
     "output_type": "stream",
     "text": [
      "[100, 2, 3]\n"
     ]
    }
   ],
   "source": [
    "my_list = [1, 2, 3]\n",
    "my_list[0] = 100\n",
    "\n",
    "print(my_list) "
   ]
  },
  {
   "cell_type": "markdown",
   "metadata": {},
   "source": [
    "### tuple\n",
    "여러 개의 값을 순서대로 저장하는 변경불가능한 시퀀스 자료\n",
    "리스트랑 다른점은 변경 불가능한 시퀀스 자료라는 점."
   ]
  },
  {
   "cell_type": "code",
   "execution_count": null,
   "metadata": {},
   "outputs": [],
   "source": [
    "my_tuple_1 = ()\n",
    "my_tuple_2 = (1,)\n",
    "my_tuple_3 = (1, 'a', 3, 'b', 5)"
   ]
  },
  {
   "cell_type": "code",
   "execution_count": null,
   "metadata": {},
   "outputs": [],
   "source": [
    "# 튜플의 불변 특성을 사용한 안전하게 여러 개의 값을 전달, 그룹화, 다중 할당 등\n",
    "# 개발자 직접 사용하기 보다 '파이썬 내부 동작'에서 주로 사용됨"
   ]
  },
  {
   "cell_type": "markdown",
   "metadata": {},
   "source": [
    "### range\n",
    "연속된 정수 시퀀스를 생성하는 변경불가능한 자료형\n"
   ]
  },
  {
   "cell_type": "code",
   "execution_count": null,
   "metadata": {},
   "outputs": [
    {
     "name": "stdout",
     "output_type": "stream",
     "text": [
      "[0, 1, 2, 3, 4]\n"
     ]
    }
   ],
   "source": [
    "range(n) # 0부터 n-1까지의 숫자의 시퀀스\n",
    "range(n, m) # n부터 m-1까지의 숫자시퀀스\n",
    "\n",
    "# 리스트로 형변환시 데이터 확인 가능\n",
    "print(list(range(5)))"
   ]
  },
  {
   "cell_type": "markdown",
   "metadata": {},
   "source": [
    "# Non-sequence Types"
   ]
  },
  {
   "cell_type": "markdown",
   "metadata": {},
   "source": [
    "## dict 딕셔너리\n",
    "key-value 쌍으로 이루어진 순서와 중복이 없는 변경 가능한 자료형\n",
    "\n",
    "1. key는 변경불가능한 자료형만 사용 가능\n",
    "2. value는 모든 자료형 사용 가능\n",
    "3. 중괄호({})로 표기\n",
    "\n",
    "키를 통해 value에 접근"
   ]
  },
  {
   "cell_type": "markdown",
   "metadata": {},
   "source": [
    "### set \n",
    "순서와 중복이 없는 변경 가능한 자료형\n",
    "수학에서 집합과 동일한 연산 처리 가능\n",
    "중괄호({})로 표기"
   ]
  },
  {
   "cell_type": "code",
   "execution_count": null,
   "metadata": {},
   "outputs": [
    {
     "name": "stdout",
     "output_type": "stream",
     "text": [
      "set()\n",
      "{1, 2, 3}\n",
      "{1}\n"
     ]
    }
   ],
   "source": [
    "my_set_1 = set() # 빈공간에 중괄호 쓰면 딕셔너리랑 겹침\n",
    "my_set_2 = {1, 2, 3}\n",
    "my_set_3 = {1, 1, 1}\n",
    "\n",
    "print(my_set_1)\n",
    "print(my_set_2) \n",
    "print(my_set_3) # 중복이 없다."
   ]
  },
  {
   "cell_type": "code",
   "execution_count": 27,
   "metadata": {},
   "outputs": [
    {
     "name": "stdout",
     "output_type": "stream",
     "text": [
      "{1, 2, 3, 6, 9}\n",
      "{1, 2}\n",
      "{3}\n"
     ]
    }
   ],
   "source": [
    "my_set_1 = {1, 2, 3}\n",
    "my_set_2 = {3, 6, 9}\n",
    "# 합집합\n",
    "print(my_set_1 | my_set_2)\n",
    "# 차집합\n",
    "print(my_set_1 - my_set_2)\n",
    "# 교집합\n",
    "print(my_set_1 & my_set_2)"
   ]
  },
  {
   "cell_type": "markdown",
   "metadata": {},
   "source": [
    "## Other Types"
   ]
  },
  {
   "cell_type": "markdown",
   "metadata": {},
   "source": [
    "### None\n",
    "값이 없음을 표현하는 자료형\n",
    "\n",
    "### Boolean\n",
    "True, False를 표현하는 자료형\n"
   ]
  },
  {
   "cell_type": "markdown",
   "metadata": {},
   "source": [
    "## Collection \n",
    "여러 개의 항목 또는 요소를 담는 자료 구조\n",
    "str, list, tuple, set ,dict"
   ]
  },
  {
   "cell_type": "markdown",
   "metadata": {},
   "source": [
    "컬렉션|변경가능여부|나열여부\n",
    "-----------------------------\n",
    "str  |     X      |    O 시퀀스\n",
    "list |     O      | O \n",
    "tuple|    X       |O\n",
    "set  |   O        |X    비시퀀스\n",
    "dict |O(Key값만)  |X"
   ]
  },
  {
   "cell_type": "code",
   "execution_count": 29,
   "metadata": {},
   "outputs": [
    {
     "name": "stdout",
     "output_type": "stream",
     "text": [
      "[100, 2, 3]\n"
     ]
    }
   ],
   "source": [
    "my_str = 'hello'\n",
    "# my_str[0] = 'z'\n",
    "\n",
    "my_list = [1, 2, 3]\n",
    "# 리시트를 객체들의 참조들을 모아놓은 컬렉션이라고도 한다.\n",
    "my_list[0] = 100\n",
    "print(my_list)"
   ]
  },
  {
   "cell_type": "code",
   "execution_count": null,
   "metadata": {},
   "outputs": [],
   "source": []
  },
  {
   "cell_type": "code",
   "execution_count": 31,
   "metadata": {},
   "outputs": [
    {
     "name": "stdout",
     "output_type": "stream",
     "text": [
      "[100, 2, 3]\n",
      "[100, 2, 3]\n"
     ]
    }
   ],
   "source": [
    "list_1 = [1, 2, 3]\n",
    "list_2 = list_1\n",
    "\n",
    "list_1[0] = 100\n",
    "print(list_1)\n",
    "print(list_2)"
   ]
  },
  {
   "cell_type": "code",
   "execution_count": 32,
   "metadata": {},
   "outputs": [
    {
     "name": "stdout",
     "output_type": "stream",
     "text": [
      "20\n",
      "10\n"
     ]
    }
   ],
   "source": [
    "## \n",
    "x = 10\n",
    "y = x\n",
    "\n",
    "x = 20\n",
    "print(x)\n",
    "print(y)"
   ]
  },
  {
   "cell_type": "markdown",
   "metadata": {},
   "source": [
    "## Type conversion\n",
    "\n",
    "### implicit Type conversion(암시적 형변환)\n",
    "Boolean과 Numeric Type에서만 가능"
   ]
  },
  {
   "cell_type": "code",
   "execution_count": 33,
   "metadata": {},
   "outputs": [
    {
     "name": "stdout",
     "output_type": "stream",
     "text": [
      "8.0\n",
      "4\n",
      "1\n"
     ]
    }
   ],
   "source": [
    "print(3 + 5.0)  # int + float\n",
    "\n",
    "print(True + 3) # boolean + int\n",
    "print( True + False)"
   ]
  },
  {
   "cell_type": "markdown",
   "metadata": {},
   "source": [
    "### Explicit Type conversion(명시적 형변환)\n",
    "예시\n",
    "str - > integer:형식에 맞는 숫자만 가능\n",
    "\n",
    "integer -> str: 모두 가능\n"
   ]
  },
  {
   "cell_type": "markdown",
   "metadata": {},
   "source": [
    "## Operator(연산자)\n",
    "\n",
    "### 산술연산자\n",
    "\n",
    "### 복합연산자\n",
    "연산과 할당이 함께 이루어짐\n",
    "a += b,  a = a + b\n",
    "a -= b,  a = a - b\n",
    "...\n",
    "a %= b, a = a % b\n"
   ]
  },
  {
   "cell_type": "code",
   "execution_count": null,
   "metadata": {},
   "outputs": [],
   "source": [
    "# i 를 10번 증가시키는데 1씩 증가 시키고 싶다.\n",
    "a = 0\n",
    "for i in range(10):\n",
    "    a += 1 # a = a + 1\n",
    "print(a)"
   ]
  },
  {
   "cell_type": "markdown",
   "metadata": {},
   "source": [
    "### 비교연산자\n",
    "== 같음.\n",
    "!= 같지 않음 \n",
    "값을 확인\n",
    "\n",
    "is 같음\n",
    "is not 같지 않음\n",
    "같은 객체를 참조하는지 확인"
   ]
  },
  {
   "cell_type": "code",
   "execution_count": 38,
   "metadata": {},
   "outputs": [
    {
     "name": "stdout",
     "output_type": "stream",
     "text": [
      "True\n",
      "True\n",
      "False\n",
      "True\n"
     ]
    }
   ],
   "source": [
    "a = 10\n",
    "b = 10\n",
    "print(a == b)\n",
    "print(a is b)\n",
    "\n",
    "a = [1, 2, 3]\n",
    "b = [1, 2, 3]\n",
    "print(a is b)\n",
    "\n",
    "c = [1, 2, 3]\n",
    "d = c\n",
    "print(c is d)\n"
   ]
  },
  {
   "cell_type": "markdown",
   "metadata": {},
   "source": [
    "## 논리연산자\n",
    "and(논리곱) 1(True)*0(False) = 0(False)\n",
    "or(논리합) boolean에서 1이상은 다 True취급함.\n",
    "not(논리부정)"
   ]
  },
  {
   "cell_type": "code",
   "execution_count": 43,
   "metadata": {},
   "outputs": [
    {
     "name": "stdout",
     "output_type": "stream",
     "text": [
      "True\n",
      "False\n",
      "False\n",
      "True\n",
      "False\n",
      "True\n",
      "True\n"
     ]
    }
   ],
   "source": [
    "print(True and True)\n",
    "print(True and False)\n",
    "print(True and False)\n",
    "print(5 == 5 and True)\n",
    "print(5 == 1 and True)\n",
    "print(not False)\n",
    "print(not(5 == 1))"
   ]
  },
  {
   "cell_type": "markdown",
   "metadata": {},
   "source": [
    "### 단축평가\n",
    "논리 연산에서 두 번째 피연산자를 평가하지 않고 결과를 결정하는 동작\n",
    "\n",
    "##### and\n",
    " 1. F    무관    F\n",
    " 2. T    TorF   TorF\n",
    "\n",
    " #### or \n",
    " 1. T     무관   T\n",
    " 2. F     TorF  TorF"
   ]
  },
  {
   "cell_type": "markdown",
   "metadata": {},
   "source": [
    "#### 단축평가의 이유\n",
    "코드실행을 최적화하고, 불필요한 연산을 피할 수 있도록 함."
   ]
  },
  {
   "cell_type": "markdown",
   "metadata": {},
   "source": [
    "### 멤버십 연산자\n",
    "\n",
    " 1. in\n",
    " 왼쪽 피연산자가 오른쪽 피연산자의 시퀀스에 속하는지 확인\n",
    " 2. not in \n",
    " 외쪽 피연산자가 오른쪽 피연산자의 시퀀스에 속하지 않는지를 확인"
   ]
  },
  {
   "cell_type": "code",
   "execution_count": 44,
   "metadata": {},
   "outputs": [
    {
     "name": "stdout",
     "output_type": "stream",
     "text": [
      "True\n",
      "False\n",
      "False\n",
      "True\n"
     ]
    }
   ],
   "source": [
    "word = 'hello'\n",
    "numbers = [1, 2, 3, 4, 5]\n",
    "print('h' in word)\n",
    "print('z' in word)\n",
    "\n",
    "print(4 not in numbers)\n",
    "print(6 not in numbers)"
   ]
  },
  {
   "cell_type": "markdown",
   "metadata": {},
   "source": [
    "### 시퀀스형 연산자\n",
    "+와 * 는 산술연산자일 때와 다른 역할을 가짐.\n",
    "\n",
    "+ 결합연산자\n",
    "* 반복연산자\n"
   ]
  },
  {
   "cell_type": "code",
   "execution_count": 45,
   "metadata": {},
   "outputs": [
    {
     "name": "stdout",
     "output_type": "stream",
     "text": [
      "GildongHong\n",
      "hihihihihi\n",
      "[1, 2, 'a', 'b']\n",
      "[1, 2, 1, 2]\n"
     ]
    }
   ],
   "source": [
    "print('Gildong' + 'Hong')\n",
    "print('hi'*5)\n",
    "print([1,2]+['a','b'])\n",
    "print([1, 2] * 2)"
   ]
  },
  {
   "cell_type": "code",
   "execution_count": 46,
   "metadata": {},
   "outputs": [
    {
     "name": "stdout",
     "output_type": "stream",
     "text": [
      "(1, 2, 3)\n",
      "['name', 'height']\n"
     ]
    }
   ],
   "source": [
    "ls = [1, 2, 3]\n",
    "print(tuple(ls))   # 형변환\n",
    "dic = {\"name\": \"chanwoo\", \"height\": 173}\n",
    "print(list(dic)) # dictionary의 key값만 변환됨."
   ]
  }
 ],
 "metadata": {
  "kernelspec": {
   "display_name": "Python 3",
   "language": "python",
   "name": "python3"
  },
  "language_info": {
   "codemirror_mode": {
    "name": "ipython",
    "version": 3
   },
   "file_extension": ".py",
   "mimetype": "text/x-python",
   "name": "python",
   "nbconvert_exporter": "python",
   "pygments_lexer": "ipython3",
   "version": "3.9.13"
  },
  "orig_nbformat": 4
 },
 "nbformat": 4,
 "nbformat_minor": 2
}
