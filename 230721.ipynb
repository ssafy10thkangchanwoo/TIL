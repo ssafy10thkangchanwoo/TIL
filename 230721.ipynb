{
 "cells": [
  {
   "cell_type": "markdown",
   "metadata": {},
   "source": [
    "##### 서버 : 부탁을 받으면 처리해주거나, 부탁대로 원하는 값을 돌려주는 역할\n",
    "##### 클라이언트: 부탁하는 역할\n",
    "네이버서버는 구글브라우저클라이언트가 요청한 자료를 제공한다.\n",
    "##### pip install requests \n",
    "##### api : 클라이언트가 원하는 기능을 수행하기 위해서 서버 측에 만들어 놓은 프로그램\n",
    "            서버 측에 특정 주소로 요청이 오면 정해진 기능을 수행하는 API를 미리 만들어 둔다.\n",
    "##### api key: 너무 많은 사용자를 막기 위해 api-key 발급, 인증된 사용자\n",
    "                과도한 사용량을 막고자 사용량이 초과될 경우 요금 청구\n",
    "##### Json(JavaScript Object Notation), 자바스크립트객체표기법\n",
    "      데이터 형식의 일종, 데이터는 중괄호({})로 둘러싸인 키-값 집합으로 표현됨.\n",
    "      키 = 문자열 / 값= 다양한 데이터 유형을 가질 수 있다.\n",
    "      값은 쉼표로 구분\n",
    "\n",
    "##### Parsing: 데이터를 의미 있는 구조로 분석하고 해석하는 과정\n",
    "      json.loads(): JSON형식의 문자열을 파싱하여 dictionary로 변환\n",
    "    "
   ]
  },
  {
   "cell_type": "code",
   "execution_count": null,
   "metadata": {},
   "outputs": [],
   "source": [
    "import requests\n",
    "\n",
    "url = 'https://fakestoreapi.com/carts'\n",
    "response = requests.get(url) # 해당서버에 데이터를 달라고 요청을 보내는 함수\n",
    "print(response.json()) # json() 쓰면 터미널에 출력 됨.\n",
    "# .json: 내부 데이터를 json(파이썬의 딕셔너리와 비슷함) 형태로 변환하는 함수"
   ]
  },
  {
   "cell_type": "code",
   "execution_count": null,
   "metadata": {},
   "outputs": [],
   "source": [
    "import json #  내장 모듈\n",
    "\n",
    "# json 데이터\n",
    "json_data = '''\n",
    "{\n",
    "    \"name\": \"김싸피\",\n",
    "    \"age\":28,\n",
    "    \"hobbies\":[\n",
    "        \"공부하기\",\n",
    "        \"복습하기\"\n",
    "    ]\n",
    "}\n",
    "'''\n",
    "\n",
    "data = json.loads(json_data)\n",
    "# print(type(data))\n",
    "\n",
    "name = data.get('name')\n",
    "\n",
    "print(name)"
   ]
  }
 ],
 "metadata": {
  "language_info": {
   "name": "python"
  },
  "orig_nbformat": 4
 },
 "nbformat": 4,
 "nbformat_minor": 2
}
