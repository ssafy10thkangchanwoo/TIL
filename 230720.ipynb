{
 "cells": [
  {
   "cell_type": "markdown",
   "metadata": {},
   "source": [
    "# Control of flow \n",
    "-조건문/반복문\n",
    "\n",
    "### Control statement(제어문)\n",
    "코드의 실행흐름을 제어하는 데 사용되는 구문, 조건에 따라 블록을 실행하거나 반복적으로 코드를 작성\n",
    "\n",
    "## Conditional Statement(조건문)\n",
    " 주어진 조건 식을 평가하여 해당 조건이 True인 경우에만 코드 블럭을 실행하거나 건너 뜀\n",
    "\n",
    "## if/ elif / else\n",
    "\n",
    "## if statement 구조\n",
    " elif, else는 선택적으로 사용 가능\n",
    "    "
   ]
  },
  {
   "cell_type": "code",
   "execution_count": null,
   "metadata": {},
   "outputs": [],
   "source": [
    "if 표현식: # 표현식은 True or False로 평가되어야 함.\n",
    "    코드블록\n",
    "elif 표현식:\n",
    "    코드블록\n",
    "else: # 위의 모든 케이스가 아닌 경우, 표현식 필요 없음.\n",
    "    코드블록"
   ]
  },
  {
   "cell_type": "code",
   "execution_count": 1,
   "metadata": {},
   "outputs": [
    {
     "name": "stdout",
     "output_type": "stream",
     "text": [
      "3 초과\n",
      "5\n"
     ]
    }
   ],
   "source": [
    "a = 5\n",
    "if a>3:\n",
    "    print('3 초과')\n",
    "else:\n",
    "    print('3 이하')\n",
    "print(a)"
   ]
  },
  {
   "cell_type": "code",
   "execution_count": 2,
   "metadata": {},
   "outputs": [
    {
     "name": "stdout",
     "output_type": "stream",
     "text": [
      "3 이하\n",
      "3\n"
     ]
    }
   ],
   "source": [
    "a = 3\n",
    "if a>3:\n",
    "    print('3 초과')\n",
    "else:\n",
    "    print('3 이하')\n",
    "print(a)"
   ]
  },
  {
   "cell_type": "markdown",
   "metadata": {},
   "source": [
    "## 복수조건문\n",
    "-위에서부터 순차적으로 출력"
   ]
  },
  {
   "cell_type": "code",
   "execution_count": null,
   "metadata": {},
   "outputs": [],
   "source": [
    "# 복수조건문\n",
    "dust= 35\n",
    "\n",
    "if dust > 150:\n",
    "    print('매우 나쁨')\n",
    "elif dust > 80:  #위에서부터 차례대로 실행. 먼저 만족시키면 더 이상 보지 않음.\n",
    "    print('나쁨')\n",
    "elif dust > 30:\n",
    "    print('보통')\n",
    "else: \n",
    "    print('좋음')\n",
    "    \n"
   ]
  },
  {
   "cell_type": "code",
   "execution_count": 3,
   "metadata": {},
   "outputs": [
    {
     "name": "stdout",
     "output_type": "stream",
     "text": [
      "매우 나쁨\n",
      "위험해요! 나가지 마세요!\n"
     ]
    }
   ],
   "source": [
    "# 중첩조건문\n",
    "dust= 480\n",
    "\n",
    "if dust > 150:\n",
    "    print('매우 나쁨')\n",
    "    if dust > 300: # 위 조건 만족 하에 실행\n",
    "        print('위험해요! 나가지 마세요!') \n",
    "elif dust > 80:\n",
    "    print('나쁨')\n",
    "elif dust > 30:\n",
    "    print('보통')\n",
    "else: \n",
    "    print('좋음')\n",
    "    "
   ]
  },
  {
   "cell_type": "code",
   "execution_count": null,
   "metadata": {},
   "outputs": [],
   "source": [
    "num = int(input('숫자를 입력하세요 :'))\n",
    "\n",
    "# if statement\n",
    "# num이 홀수라면 ( 2로 나눈 나머지가 1이라면)\n",
    "if num % 2 == 1:\n",
    "    print('홀수입니다.')\n",
    "# if num % 2: # 1은 True 로 평가되기에\n",
    "    print('홀수입니다.')\n",
    "# num이 홀수가 아니라면(짝수이면)\n",
    "else:\n",
    "    print('짝수입니다.')"
   ]
  },
  {
   "cell_type": "code",
   "execution_count": null,
   "metadata": {},
   "outputs": [],
   "source": [
    "a= 10\n",
    "if a % 2 == 0:\n",
    "    print(\"a짝\")\n",
    "else:\n",
    "    print(\"a홀\")\n",
    "\n",
    "str = \"\"\n",
    "# a가 짝수인 경우 str에 \"짝수\", 홀수일 땐 str에 \"홀수\"\n",
    "\n",
    "str = \"짝수\" if a % 2 == 0 else \"홀수\" # 조건표현식\n",
    "print(str)"
   ]
  },
  {
   "cell_type": "markdown",
   "metadata": {},
   "source": [
    "## Loop Statement(반복문)\n",
    "주어진 코드블록을 여러 번 반복해서 실행하는 구문\n",
    "1. 특정 작업을 반복적으로 수행\n",
    "2. 주어진 조건이 참인 동안 반복 수행\n",
    "\n",
    "for / while 사용\n",
    "## for\n",
    "임의의 시퀀스의 항목들을 그 시퀀스에 들어있는 (index)순서대로 반복\n",
    "\n",
    "* 반복 가능한 객체(iterable)\n",
    "반복문에서 순회할 수 있는 객체(시퀀스 객체 뿐만 아니라 dict, set등도 포함)"
   ]
  },
  {
   "cell_type": "code",
   "execution_count": null,
   "metadata": {},
   "outputs": [],
   "source": [
    "for variable in iterable # ex) list [1,2,3]\n",
    "    코드블럭"
   ]
  },
  {
   "cell_type": "code",
   "execution_count": 20,
   "metadata": {},
   "outputs": [
    {
     "name": "stdout",
     "output_type": "stream",
     "text": [
      "apple\n",
      "banana\n"
     ]
    }
   ],
   "source": [
    "items = ['apple', 'banana', 'coconut']\n",
    "for item in items:\n",
    "    if item == \"apple\":\n",
    "        print(item)\n",
    "    elif item == \"banana\":\n",
    "        print(item)"
   ]
  },
  {
   "cell_type": "code",
   "execution_count": 4,
   "metadata": {},
   "outputs": [
    {
     "name": "stdout",
     "output_type": "stream",
     "text": [
      "K\n",
      "o\n",
      "r\n",
      "e\n",
      "a\n"
     ]
    }
   ],
   "source": [
    "# 문자열 순회\n",
    "COUNTRY = 'Korea'\n",
    "\n",
    "for char in COUNTRY:\n",
    "    print(char)"
   ]
  },
  {
   "cell_type": "code",
   "execution_count": 23,
   "metadata": {},
   "outputs": [
    {
     "name": "stdout",
     "output_type": "stream",
     "text": [
      "0\n",
      "1\n",
      "2\n",
      "3\n",
      "4\n",
      "===========\n",
      "1\n",
      "2\n",
      "3\n",
      "4\n",
      "===========\n",
      "1 3 5 7 9 "
     ]
    }
   ],
   "source": [
    "# range 순회\n",
    "for i in range(5):\n",
    "    print(i)\n",
    "\n",
    "print(\"===========\")\n",
    "\n",
    "for i in range(1, 5):\n",
    "    print(i)\n",
    "\n",
    "print(\"===========\")\n",
    "\n",
    "for i in range(1, 10, 2): # range를 만들건데 범위는 1부터 10-1까지고 2개씩 건너 띄면서 만들어라\n",
    "    print(i, end = \" \")"
   ]
  },
  {
   "cell_type": "code",
   "execution_count": null,
   "metadata": {},
   "outputs": [],
   "source": [
    "# 인덱스로 리스트 순회\n",
    "# 리스트의 요소가 아닌 인덱스로 접근하여 요소 변경\n",
    "\n",
    "numbers = [4, 6, 10, -8, 5]\n",
    "for i in range(len(numbers)):\n",
    "    numbers[i] = numbers[i]*2"
   ]
  },
  {
   "cell_type": "code",
   "execution_count": 6,
   "metadata": {},
   "outputs": [
    {
     "name": "stdout",
     "output_type": "stream",
     "text": [
      "A C\n",
      "A D\n",
      "B C\n",
      "B D\n"
     ]
    }
   ],
   "source": [
    "# 중첩 반복문\n",
    "outers = ['A', 'B']\n",
    "inners = ['C', 'D']\n",
    "for outer in outers: # 1\n",
    "    for inner in inners: #2 # 4  # inner의 반복이 다 끝나야 outer로 넘어감.\n",
    "        print(outer, inner) # 3 \n",
    "        # print가 호출되는 횟수 len(outers) * len(inners)"
   ]
  },
  {
   "cell_type": "code",
   "execution_count": 9,
   "metadata": {},
   "outputs": [
    {
     "name": "stdout",
     "output_type": "stream",
     "text": [
      "A\n",
      "B\n",
      "C\n",
      "D\n"
     ]
    }
   ],
   "source": [
    "# 중첩 리스트 순회\n",
    "\n",
    "elements = [['A', 'B'], ['C', 'D']]\n",
    "for elem in elements:\n",
    "    # print(elem)\n",
    "    for item in elem:\n",
    "        print(item)"
   ]
  },
  {
   "cell_type": "markdown",
   "metadata": {},
   "source": [
    "## While statement\n",
    " 주어진 조건식이 True인 동안 반복 실행 == 거짓일 때 종료\n",
    "\n",
    "1. while문의 기본 구조"
   ]
  },
  {
   "cell_type": "code",
   "execution_count": null,
   "metadata": {},
   "outputs": [],
   "source": [
    "while 조건식:\n",
    "    코드블록"
   ]
  },
  {
   "cell_type": "code",
   "execution_count": null,
   "metadata": {},
   "outputs": [],
   "source": [
    "# while 반복문 예시\n",
    "a = 0\n",
    "while a < 3: # 종료 조건 직접 설정하는 것이 꽤나 골치 아플 수도?\n",
    "    print(a)\n",
    "    a += 1 # 이거 없으면 무한루프 당함...\n",
    "\n",
    "print('끝')"
   ]
  },
  {
   "cell_type": "code",
   "execution_count": null,
   "metadata": {},
   "outputs": [],
   "source": [
    "# 사용자 입력에 따른 반복, while문을 사용한 특정 입력 값에 대한 종료 조건 활용 \n",
    "number = int(input('양의 정수를 입력해주세요.:'))\n",
    "\n",
    "while number <= 0:\n",
    "    if number < 0:\n",
    "        print('음수를 입력했습니다.')  # -1\n",
    "    else:\n",
    "        print('0은 양의 정수가 아닙니다.') # 0\n",
    "\n",
    "    number = int(input('양의 정수를 입력해주세요.:'))\n",
    "\n",
    "print('잘했습니다!') # 1\n"
   ]
  },
  {
   "cell_type": "markdown",
   "metadata": {},
   "source": [
    "### for \n",
    "iterable 요소를 하나씩 순회하며 반복\n",
    "반복 횟수가 명확히 정해져 있는 경우\n",
    "리스트, 튜플, 문자열 등과 같은 시퀀스 형식의 데이터를 처리할 경우\n",
    "\n",
    "### while \n",
    "주어진 조건이 참인 동안 반복\n",
    "반복횟수가 불명확하거나 조건에 따라 반복할 경우\n",
    "특정조건이 충족될 때까지 반복하는 경우"
   ]
  },
  {
   "cell_type": "markdown",
   "metadata": {},
   "source": [
    "## 반복 제어\n",
    "for문과 while은 매 반복마다 본문 내 모든 코드를 실행하지만 때때로 일부만 실행하는 것이 필요할 때가 있음.\n",
    "\n",
    "### break \n",
    "    반복을 즉시 중지\n",
    "### continue\n",
    "    다음 반복으로 건너 뜀"
   ]
  },
  {
   "cell_type": "code",
   "execution_count": null,
   "metadata": {},
   "outputs": [],
   "source": [
    "# break 예시, 프로그램 종료 조건 만들기\n",
    "\n",
    "number = int(input('양의 정수를 입력해주세요.:'))\n",
    "while number <= 0:\n",
    "    if number == -9999\n",
    "        print('프로그램을 종료합니다.')\n",
    "        break\n"
   ]
  },
  {
   "cell_type": "code",
   "execution_count": null,
   "metadata": {},
   "outputs": [],
   "source": [
    "# 짝수를 찾으면 종료하는 프로그램\n",
    "numbers = [1, 3, 5, 6, 7, 9, 10, 11]\n",
    "found_even = False\n",
    "for num in numbers:\n",
    "    if num %2 == 0:\n",
    "        print('첫 번째 짝수를 찾았습니다:', num)\n",
    "        found_even = True\n",
    "        break\n",
    "\n",
    "if not found_even:\n",
    "    print('짝수를 찾지 못했습니다.')\n"
   ]
  },
  {
   "cell_type": "code",
   "execution_count": 10,
   "metadata": {},
   "outputs": [
    {
     "name": "stdout",
     "output_type": "stream",
     "text": [
      "1\n",
      "3\n",
      "5\n",
      "7\n",
      "9\n"
     ]
    }
   ],
   "source": [
    "# continue 예시 # 리스트에서 홀수만 출력하기\n",
    "numbers = [1, 2, 3, 4, 5, 6, 7, 8, 9, 10]\n",
    "\n",
    "for num in numbers:  #1 # 4\n",
    "    if num % 2 == 0: #2\n",
    "        continue # 다음 반복으로 넘어가기 #3\n",
    "    print(num)"
   ]
  },
  {
   "cell_type": "markdown",
   "metadata": {},
   "source": [
    "### break와 continue 주의사항\n",
    "break와 continue를 남용하는 것은 코드의 가독성을 저하시킬 수 있음.\n",
    "특정한 종료 조건을 만들어 break를 대신하거나, if문을 사용해 continue처럼 건너뛸 수 있음\n",
    "코드의 가독성과 의도를 명확히 하는 것이 제일 중요"
   ]
  },
  {
   "cell_type": "markdown",
   "metadata": {},
   "source": [
    "## List Comprehension\n",
    "    간결하고 효율적으로 리스트를 생성하는 방법\n",
    "    그런데 가독성이 높진 않은 듯 \n",
    "    \n",
    "### 구조\n",
    "    [expression for variable in iterable]\n",
    "    list(expression for variable in iterable)"
   ]
  },
  {
   "cell_type": "code",
   "execution_count": 14,
   "metadata": {},
   "outputs": [
    {
     "name": "stdout",
     "output_type": "stream",
     "text": [
      "[1, 3, 5, 7, 9]\n",
      "[1, 3, 5, 7, 9]\n"
     ]
    }
   ],
   "source": [
    "# 0~9 요소를 가지는 리스트 만들기 (1~10)\n",
    "# 1. 일반적인 방법\n",
    "new_list = []\n",
    "for i in range(10):\n",
    "    if i % 2 == 1:\n",
    "        new_list.append(i)\n",
    "print(new_list)\n",
    "\n",
    "# list comprehension\n",
    "new_list_2 = [i for i in range(10) if i % 2 == 1]\n",
    "print(new_list_2)\n",
    "\n",
    "# list compreheinsion + if else, elif는 사용 불가 #중첩 if는 됨.\n",
    "new_list_3 = [i if i % 2==1 else str(i) for i in range(10)]"
   ]
  },
  {
   "cell_type": "markdown",
   "metadata": {},
   "source": [
    "### List를 생성하는 3가지 방법 비교"
   ]
  },
  {
   "cell_type": "code",
   "execution_count": null,
   "metadata": {},
   "outputs": [],
   "source": [
    "\n",
    "numbers = ['1', '2', '3']\n",
    "\n",
    "# 1. for loop\n",
    "new_numbers = []\n",
    "for number in numbers:\n",
    "    new_numbers.append(int(number))\n",
    "print(new_numbers)\n",
    "\n",
    "# 2. map\n",
    "new_numbers_2 = list(map(int, numbers))\n",
    "print(new_numbers_2)\n",
    "\n",
    "# 3. list comprehension\n",
    "\n",
    "new_numbers_3 = [int(number) for number in numbers ]\n",
    "print(new_numbers_3)"
   ]
  },
  {
   "cell_type": "markdown",
   "metadata": {},
   "source": [
    "### pass\n",
    " 아무런 동작도 수행하지 않고 넘어가는 역할\n",
    " 문법적으로 문장이 필요하지만 프로그램 실행에는 영향을 주지 않아야 할 때 사용\n",
    " 함수를 작성하다 마무리 하지 못할 때 pass로 두면 실행에 문제 없음\n",
    "    1. 코드 작성 미완성 부분   \n",
    "    2. 조건문에서 아무런 동작을 수행하지 않아야 할 때\n",
    "    3. 무한 루프에서 조건이 충족되지 않을 때 pass를 사용"
   ]
  },
  {
   "cell_type": "markdown",
   "metadata": {},
   "source": [
    "### enumerate(iterable, start = 0)\n",
    "iterable 객체의 각 요소에 대해 인덱스와 함께 반환하는 함수"
   ]
  },
  {
   "cell_type": "code",
   "execution_count": 24,
   "metadata": {},
   "outputs": [
    {
     "name": "stdout",
     "output_type": "stream",
     "text": [
      "인덱스 0:apple\n",
      "인덱스 1:banana\n",
      "인덱스 2:cherry\n"
     ]
    }
   ],
   "source": [
    "fruits = ['apple', 'banana', 'cherry']\n",
    "for index, fruit in enumerate(fruits): # 요소만 나오는 게 아니라 인덱스도 나옴\n",
    "    print(f'인덱스 {index}:{fruit}')"
   ]
  },
  {
   "cell_type": "code",
   "execution_count": 25,
   "metadata": {},
   "outputs": [
    {
     "name": "stdout",
     "output_type": "stream",
     "text": [
      "<enumerate object at 0x0000016FD21EF100>\n",
      "[(0, 'a'), (1, 'b'), (2, 'c')]\n",
      "0 a\n",
      "1 b\n",
      "2 c\n"
     ]
    }
   ],
   "source": [
    "result = ['a', 'b', 'c'] \n",
    "print(enumerate(result))\n",
    "print(list(enumerate(result))) # 요소 하나하나가 튜플 형태로 나옴.\n",
    "\n",
    "for index, elem in enumerate(result): # 튜플이기 때문에 이와 같이 unpacking가능\n",
    "    print(index, elem)\n"
   ]
  }
 ],
 "metadata": {
  "kernelspec": {
   "display_name": "Python 3",
   "language": "python",
   "name": "python3"
  },
  "language_info": {
   "codemirror_mode": {
    "name": "ipython",
    "version": 3
   },
   "file_extension": ".py",
   "mimetype": "text/x-python",
   "name": "python",
   "nbconvert_exporter": "python",
   "pygments_lexer": "ipython3",
   "version": "3.9.13"
  },
  "orig_nbformat": 4
 },
 "nbformat": 4,
 "nbformat_minor": 2
}
