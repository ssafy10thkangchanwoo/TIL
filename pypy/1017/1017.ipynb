{
 "cells": [
  {
   "cell_type": "markdown",
   "metadata": {},
   "source": [
    "## 초기 데이터 만들기/열기\n",
    "1. dumpdata\n",
    "python manage.py dumpdata --indent 4 articles.article > articles.json  \n",
    "indent는 4칸 띄어쓰기, articles.article자료를 articles.json으로 만들겠다.\n",
    "\n",
    "python manage.py dumpdata --indent 2 accounts.user > users.json\n",
    "python manage.py dumpdata --indent 4 articles.comment > comments.json\n",
    "\n",
    "2. 데이터 전부 다 덤프하기\n",
    "python manage.py dumpdata --indent 4 > data.json \n",
    "\n",
    "## 데이터 불러오기\n",
    "2. loaddata\n",
    "    1. 기본 경로 : app_name/fixtures/\n",
    "                articles에 fixture을 만든다.\n",
    "    2. encoding codec 관련 에러가 발생한 경우 \n",
    "    메모장 활용 : 메모장으로 json파일 열기 -> utf8로 변환하여 저장\n",
    "python manage.py loaddata articles.json users.json comments.json\n",
    "\n",
    "*주의 : Fixture은 직접 제작 X "
   ]
  },
  {
   "cell_type": "markdown",
   "metadata": {},
   "source": [
    "## Improve query "
   ]
  },
  {
   "cell_type": "markdown",
   "metadata": {},
   "source": [
    "## 더미데이터 생성하기\n",
    "1. pip install django-seed \n",
    "2. pip install psycopg2\n",
    "3. python manage.py seed articles --number=150"
   ]
  }
 ],
 "metadata": {
  "language_info": {
   "name": "python"
  }
 },
 "nbformat": 4,
 "nbformat_minor": 2
}
