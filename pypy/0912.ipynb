{
 "cells": [
  {
   "cell_type": "markdown",
   "metadata": {},
   "source": [
    "naver.com 이라고 쳤다.\n",
    "그 과정에서\n",
    "\n",
    "1. naver.com 입력\n",
    "2. 크롬은 네이버 컴퓨터에게 naver.com html파일 달라고 요청\n",
    "3. 요청을 받은 네이버 컴퓨터는 naver.com 파일을 찾아 응답\n",
    "4. 전달받은 html 파일을 사람이 볼 수 있도록 웹 브라우저가 해석해줌."
   ]
  },
  {
   "cell_type": "markdown",
   "metadata": {},
   "source": [
    "## 가상환경\n",
    "1. 만들기 : python -m venu venu  마지막 venu는 가상환경 이름 \n",
    "2. 들어가기 : source venv/scripts/activate\n",
    "3. 나가기 : deactivate\n",
    "\n",
    "4. 패키지확인:  pip list 컴퓨터에 설치되어 있는 패키지 확인\n",
    "5. pip freeze > requirements.txt \n",
    "    -가상환경에 어떠한 패키지가 기록되어 있는지 txt파일로 기록\n",
    "\n",
    "\n",
    "## requitrement, venv는 수정가능하지만 그대로 써야 한다\n"
   ]
  },
  {
   "cell_type": "markdown",
   "metadata": {},
   "source": []
  },
  {
   "cell_type": "markdown",
   "metadata": {},
   "source": [
    "## 위에것을 받은 사람은 뭐를 해야할까?\n",
    "1. 가상환경 만들기\n",
    "    - 받은 가상환경은 가상환경패키지파일을 받아\n",
    "      pip install -r requirements.txt\n",
    "- interpreter 바꾸기 단축기 ctrl+shift+p"
   ]
  },
  {
   "cell_type": "code",
   "execution_count": null,
   "metadata": {
    "vscode": {
     "languageId": "plaintext"
    }
   },
   "outputs": [],
   "source": []
  },
  {
   "cell_type": "markdown",
   "metadata": {},
   "source": [
    "## Djanggo생성전 루틴\n",
    "1. 가상환경 생성\n",
    "2. 활성화\n",
    "3. 장고 설치\n",
    "4. 의존성 파일 생성\n",
    "5. .gitignore 파일 생성\n",
    "6. git 저장소 생성\n",
    "7. 장고프로젝트 생성\n",
    "\n",
    "1. pip install django\n",
    "2. (pip list) pip freeze > requirement.txt\n",
    "3. django-admin startproject firstproject . \n",
    "-firstproject를 .(현재디렉토리) 생성\n",
    "4. python manage.py\n",
    "- 현재 위치에 있는 manage파일을 통해 이러한 행동을 할거야\n",
    "5. python manage.py runserver\n",
    "- 서버실행\n",
    "- 이 때 터미널 작동 불가. ctrl+C 로 종료시켜야 이후 터미널 사용 가능. \n",
    "  이렇게 끄지 않으면 작업관리자에서 계속 실행되어 있을 수 있음.\n",
    "6. python manage.py startapp articles\n",
    "- 앱을 만들꺼다, 아티클이란 이름의 앱을.\n",
    "- 복수형으로 쓰는 것을 권장\n",
    "7. firstproject-settings-INSTALLED_APPS에 가서 \n",
    "- 앱을 추가시킨다."
   ]
  },
  {
   "cell_type": "markdown",
   "metadata": {},
   "source": [
    "## 디자인패턴\n",
    " 소프트웨어 발생시 일반적으로 해결하기 위한 해결책\n",
    "\n",
    "## MVC 디자인 패턴\n",
    " model, view, controller로 분리.\n",
    " 시각적인 요소, 뒤에서 실행되는 로직을 서로 영향 없이 유지보수를 쉽게 하기 위해\n",
    "\n",
    "## MTV 디자인 패턴\n",
    " model, Templete, View 파이썬의 계보를 잇는 장고. MVC와 구조는 같음. 이름만 다름.\n",
    "\n",
    "\n"
   ]
  },
  {
   "cell_type": "markdown",
   "metadata": {},
   "source": [
    "### project 에서는 settings, urls만 볼 것이다.\n",
    "\n",
    "## app\n",
    "\n",
    "$ python manage.py startapp menus"
   ]
  }
 ],
 "metadata": {
  "language_info": {
   "name": "python"
  },
  "orig_nbformat": 4
 },
 "nbformat": 4,
 "nbformat_minor": 2
}
