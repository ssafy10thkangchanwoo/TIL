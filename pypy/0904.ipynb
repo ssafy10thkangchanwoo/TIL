{
 "cells": [
  {
   "cell_type": "markdown",
   "metadata": {},
   "source": [
    "## alt+b \n",
    "    웹 브라우저 열기\n",
    "\n",
    "## ol \n",
    "    순서 있는 리스트\n",
    "\n",
    "## li \n",
    "    리스트\n",
    "\n",
    "## ul \n",
    "    순서 없는 리스트\n",
    "\n",
    "## ! 후 tab\n",
    "    기본양식 바로 나오게 해줌\n",
    "\n"
   ]
  },
  {
   "cell_type": "markdown",
   "metadata": {},
   "source": [
    "auto close tag\n",
    "VScode에 설치해두면 좋음."
   ]
  },
  {
   "cell_type": "markdown",
   "metadata": {},
   "source": [
    "# CSS\n",
    "\n",
    "## Selector (선택자)\n",
    "    무엇을 바꿀 것인가?\n",
    "## Delaration (선언)\n",
    "    {}범위 선언\n",
    "## 속성:값 \n",
    "    속성에 값을 부여\n",
    "\n",
    "### 예시\n",
    "    h1{\n",
    "        color: red;\n",
    "        font-size: 30px;\n",
    "    }\n",
    "\n",
    "## CSS 스타일 종류\n",
    "### 인라인 스타일(Inline)\n",
    "    거의 안씀\n",
    "### 내부(Internal)스타일\n",
    "### 외부(External)스타일\n",
    "    가장 많이 씀\n"
   ]
  },
  {
   "cell_type": "markdown",
   "metadata": {},
   "source": [
    "## * 전체선택자\n",
    "## 요소선택자\n",
    "    하나 지정\n",
    "위의 선택자 사용은 추천하지 않음\n",
    "재사용이 안된다는데\n",
    "\n",
    "# 클래스 선택자\n",
    "    .green"
   ]
  },
  {
   "cell_type": "markdown",
   "metadata": {},
   "source": [
    "## 자식결합자"
   ]
  },
  {
   "cell_type": "markdown",
   "metadata": {},
   "source": [
    "# 우선순위가 높은 순\n",
    "    1. Importance\n",
    "        !important\n",
    "    2. Inline 스타일\n",
    "    3. 선택자 \n",
    "        id 선택자 > class 선택자 > 요소 선택자\n",
    "    4. 소스 코드 순서"
   ]
  },
  {
   "cell_type": "markdown",
   "metadata": {},
   "source": [
    "# MDN\n",
    " 웹 표준 참고할 수 있는 사이트\n",
    " ex:  how to render iamge into html"
   ]
  }
 ],
 "metadata": {
  "language_info": {
   "name": "python"
  },
  "orig_nbformat": 4
 },
 "nbformat": 4,
 "nbformat_minor": 2
}
