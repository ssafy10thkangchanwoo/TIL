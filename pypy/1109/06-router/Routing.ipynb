{
 "cells": [
  {
   "cell_type": "markdown",
   "metadata": {},
   "source": [
    "## Routing \n",
    "    네트워크에서 경로를 선택하는 프로세스\n",
    "\n",
    "## Vue Router \n",
    "    SPA인 vue에서 제공하는 공식 라우터\n",
    "\n",
    "\n",
    "## Navication Guard \n",
    "1. 전역가드\n",
    "    -index.js\n",
    "    다른 URL로 이동하기 직전에 실행되는 함수 router.beforeEach(from, to)\n",
    "    1. return False로 취소\n",
    "    2. 특정한 url 이름을 써서 이동시키던가\n",
    "    3. return을 안해서 자연스럽게 to로 이동시키던가\n",
    "2. 라우터가드\n",
    "    - index.js의 각 route\n",
    "    - route에 진입했을 때만 실행되는 함수\n",
    "    - 매개변수, 쿼리 값이 변경될 때는 실행되지 않음 ex) user/1 -> user/2\n",
    "    \n",
    "3. 컴포넌트 가드\n",
    "    - 컴포넌트 Script에서 정의"
   ]
  }
 ],
 "metadata": {
  "language_info": {
   "name": "python"
  }
 },
 "nbformat": 4,
 "nbformat_minor": 2
}
