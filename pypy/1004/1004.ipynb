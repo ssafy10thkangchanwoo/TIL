{
 "cells": [
  {
   "cell_type": "markdown",
   "metadata": {},
   "source": [
    "## HTTP 특징\n",
    "1. 비연결지향\n",
    " - 서버는 요청에 대한 응답을 보낸 후 연결을 끊음\n",
    "2. 무상태 (stateless)\n",
    " - 연결을 끊는 순간 상태정보가 유지되지 않음\n",
    "\n",
    "우리가 웹페이지를 둘러볼 때 우리는 서버와 연결되어 있는 상태가 아니다.\n",
    "\n",
    "그럼 장바구니/로그인 지속은 무엇?\n",
    "\n",
    "## Cookie\n",
    "정의: 서버가 사용자의 웹 브라우저에 전송하는 작은 조각\n",
    "클라이언트 측에 저장되는 작은 데이터 파일.\n",
    "사용자 인증, 추적, 상태 유지 등에 사용 \n",
    "\n",
    "다른페이지 들릴 때마다\n",
    "계속 쿠키를 서버에 보냄으로써 상태 지속\n",
    "\n",
    "## 쿠키 사용 목적\n",
    "1. 세션 관리\n",
    "-로그인, 자동완성, 공지 안보기 등등..\n",
    "2. 개인화\n",
    "-사용자선호,테마 등 설정\n",
    "3. 트래킹\n",
    "-사용자 행동 기록 분석\n",
    "\n",
    "## session\n",
    "서버간의 상태 유지.\n",
    "상태 정보를 저장하는 데이터 저장 방식\n",
    "쿠키에 세션데이터 저장하여 매 요청시마다 세션 데이터를 함께 보냄\n",
    "\n",
    "## 쿠키 종류별\n",
    "1. Session cookie\n",
    "2. Persistent cookies\n",
    "\n",
    "\n"
   ]
  },
  {
   "cell_type": "markdown",
   "metadata": {},
   "source": [
    "## django authentication system\n",
    "-사용자 인증과 관련된 기능을 모아놓은 시스템\n",
    "\n",
    "장고가 기본적으로 제공하는 User model을 커스터마이징하자.\n",
    "기본값 auth의 User class \n",
    "\n",
    "1. model에 커스텀 User작성\n",
    "from django.contrib.auth.models import AbstractUser \n",
    "class User(AbstractUser)\n",
    "\n",
    "2. settings에서 \n",
    "AUTH_USER_MODEL = 'accounts.User' 작성\n",
    "\n",
    "3. accounts/admin.py 에서\n",
    "등록\n"
   ]
  },
  {
   "cell_type": "markdown",
   "metadata": {},
   "source": [
    "## login \n",
    "-session create\n",
    "\n",
    "### AuthenticationForm()\n",
    "-로그인 인증에 사용할 데이터를 입력받는 built-in form\n",
    "\n",
    "-login(request,user)함수 사용\n",
    "-get_user() AuthenticationForm의 인스턴트 메서드.\n",
    " 유효성검사 통과했을 경우 로그인 한 사용자 객체를 반환\n"
   ]
  },
  {
   "cell_type": "markdown",
   "metadata": {},
   "source": [
    "## Logout\n",
    "-sesseion delete \n",
    "\n",
    "-logout(request)함수\n",
    "session data를 DB에서 삭제\n",
    "클라이언트 쿠키에서도 SessionID삭제\n"
   ]
  },
  {
   "cell_type": "markdown",
   "metadata": {},
   "source": [
    "## User 모델 상속 관계\n",
    "models.Model >> class AbstractBaseUser >> class AbstractUser >> class User\n",
    "\n",
    "-AbstractUser class \n",
    "관리자 권한과 함꼐 완전한 기능을 가지고 있는 User model을 구현하는 추상 기본클래스\n",
    "\n"
   ]
  }
 ],
 "metadata": {
  "language_info": {
   "name": "python"
  },
  "orig_nbformat": 4
 },
 "nbformat": 4,
 "nbformat_minor": 2
}
