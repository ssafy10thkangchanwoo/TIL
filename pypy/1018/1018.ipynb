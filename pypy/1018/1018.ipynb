{
 "cells": [
  {
   "cell_type": "markdown",
   "metadata": {},
   "source": [
    "## API(application programming interface)\n",
    "\n",
    "## REST(Representational State Transfer)\n",
    "    * 데이터를 정보 혹은 상태라고도 함.\n",
    "\n",
    "## RESTful API  \n",
    " REST원리를 따른 API\n",
    " 자원을 정의하고 자원에 대한 주소를 지정하는 전반적인 방법\n",
    " 1. 자원의 식별(URI)\n",
    "    1. URI : 자원을 식별하는 문자열\n",
    "    2. URL : 자원의 위치를 알려주기 위한 약속\n",
    "    URL 구조:\n",
    "    1. 스키마(프로토콜)\n",
    "    2. Domain\n",
    "    3. port \n",
    "    4. path \n",
    "    TMI: 과거에는 물리적 위치를 나타냈음. ex: naver.com/index.html\n",
    "    5. parameter \n",
    "    6. anchor : 북마크, 페이지의 정확한 위치\n",
    "\n",
    "\n",
    " 2. 자원의 행위(HTTP method )\n",
    "    1. GET(R)\n",
    "    2. POST(C)\n",
    "    3. PUT(U)\n",
    "    4. DELETE(D)\n",
    "\n",
    "    HTTP RESPONSE STATUS CODE \n",
    "\n",
    "\n",
    " 3. 자원의 표현 -json data\n",
    "    REST API 는 JSON타입으로 응답하는 것을 권장\n",
    "\n",
    "    기존\n",
    "    (render 페이지만을 만드는 함수) / 새로고침(요청을 다시 보냄)\n",
    "    우리는 새로운 문서를 다시 받은 것임.\n",
    "    좋아요를 누르면 새로운 문서를 다시 받음\n"
   ]
  },
  {
   "cell_type": "markdown",
   "metadata": {},
   "source": [
    "## Serialization\n",
    "    -serialization으로 자원의 표현 변경\n",
    "    -쿼리셋 자체는 다른 곳에서 못쓸 수도 있음.\n",
    "    - 어떠한 과정에서도 쉽게 쓸 수 있는 자료로 바꾸자."
   ]
  }
 ],
 "metadata": {
  "language_info": {
   "name": "python"
  }
 },
 "nbformat": 4,
 "nbformat_minor": 2
}
