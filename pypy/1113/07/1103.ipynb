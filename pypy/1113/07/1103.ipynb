{
 "cells": [
  {
   "cell_type": "code",
   "execution_count": null,
   "metadata": {},
   "outputs": [],
   "source": []
  },
  {
   "cell_type": "markdown",
   "metadata": {},
   "source": [
    "## 단순성이 무너지는 시점\n",
    "1. 여러 뷰가 동일한 상태에 종속 되는 경우\n",
    "    1. too many props\n",
    "\n",
    "2. 서로 다른 뷰의 기능이 동일한 상태를 변경시켜야 하는 경우\n",
    "    1. too many emit\n",
    "\n",
    "## 해결책 \n",
    "1. 중앙저장소 "
   ]
  }
 ],
 "metadata": {
  "language_info": {
   "name": "python"
  }
 },
 "nbformat": 4,
 "nbformat_minor": 2
}
