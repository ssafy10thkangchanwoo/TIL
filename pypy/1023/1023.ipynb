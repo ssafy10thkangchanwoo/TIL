{
 "cells": [
  {
   "cell_type": "markdown",
   "metadata": {},
   "source": [
    "## DOM ( The Document Object Model)\n",
    "    문서를 객체로 보는 관점 \n",
    "\n",
    "\n",
    "    1. document객체 : 문서 전체를 의미\n",
    "        1-1: title : document.title 문서 제목\n",
    "\n",
    "    2. DOM 조작\n",
    "        1. 선택, 선택 메서드 이용\n",
    "            1-1. 단일선택 : document.querySelect(selector)\n",
    "                CSS selector를 만족하는 첫번째 element 반환(없다면 Null 반환)\n",
    "            1-2. 다중선택 : document.querySelectorAll()\n",
    "                NodeList 반환 \n",
    "    \n",
    "\n",
    "\n",
    "        2. 선택된 요소의 콘텐츠 또는 속성을 조작\n",
    "    \n",
    "    3. 속성(attribute) 조작\n",
    "        2-1. 클래스 속성 조작\n",
    "            클래스 목록을 DOMTokenList 형태로 반환\n",
    "        2-2. 일반속성 조작"
   ]
  },
  {
   "cell_type": "markdown",
   "metadata": {},
   "source": []
  }
 ],
 "metadata": {
  "language_info": {
   "name": "python"
  }
 },
 "nbformat": 4,
 "nbformat_minor": 2
}
