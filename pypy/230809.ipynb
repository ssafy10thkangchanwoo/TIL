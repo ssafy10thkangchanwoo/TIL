{
 "cells": [
  {
   "cell_type": "markdown",
   "metadata": {},
   "source": [
    "## stack\n",
    "    1. 선형구조\n",
    "    2. 후입선출LIFO\n",
    "    3. 삽입 후 꺼낼 수 있음\n",
    "\n",
    "### stack 연산\n",
    "    1. 삽입 push\n",
    "    2. 삭제 pop\n",
    "    3. 공백인지 아닌지 isEmpty\n",
    "    4. top에 있는 item을 반환하는 peek"
   ]
  },
  {
   "cell_type": "code",
   "execution_count": null,
   "metadata": {},
   "outputs": [],
   "source": [
    "def push(item, size):\n",
    "    global top \n",
    "    top += 1\n",
    "    if top == size:\n",
    "        print('overflow!') # 디버깅목적\n",
    "    else:\n",
    "        stack[top] = item\n",
    "\n",
    "    size = 10\n",
    "    stack = [0] * size\n",
    "    top = -1\n",
    "\n",
    "push(10, size)\n",
    "top += 1\n",
    "stack[top]"
   ]
  },
  {
   "cell_type": "code",
   "execution_count": null,
   "metadata": {},
   "outputs": [],
   "source": [
    "def pop():\n",
    "    global top \n",
    "    if top == -1:\n",
    "        print('underflow')\n",
    "        return 0\n",
    "    else: \n",
    "        top -= 1\n",
    "        return stack[top+1]\n",
    "\n",
    "print(pop())\n",
    "\n",
    "if top > -1: #pop()\n",
    "    top -= 1\n",
    "    print(stack[top+1])\n"
   ]
  },
  {
   "cell_type": "code",
   "execution_count": null,
   "metadata": {},
   "outputs": [],
   "source": [
    "stack = [0]*10\n",
    "top = -1\n",
    "\n",
    "top += 1 # push\n",
    "stack[top] = 1\n",
    "top += 1\n",
    "stack[top] = 2\n",
    "top += 1\n",
    "stack[top] = 3\n",
    "\n",
    "print(stack([top])) # pop\n",
    "top -= 1\n",
    "top -= 1\n",
    "print(stack[top+1])"
   ]
  }
 ],
 "metadata": {
  "language_info": {
   "name": "python"
  },
  "orig_nbformat": 4
 },
 "nbformat": 4,
 "nbformat_minor": 2
}
