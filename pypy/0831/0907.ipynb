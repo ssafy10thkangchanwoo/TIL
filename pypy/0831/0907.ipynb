{
 "cells": [
  {
   "cell_type": "markdown",
   "metadata": {},
   "source": [
    "\n",
    "\n",
    ".col    ~575px;\n",
    ".col-sm-4   576px ~ \n",
    ".col-md-4   768\n",
    ".col-lg-4   992\n",
    ".col-xl-4   1200\n",
    ".col-xxl-4  1400"
   ]
  }
 ],
 "metadata": {
  "language_info": {
   "name": "python"
  },
  "orig_nbformat": 4
 },
 "nbformat": 4,
 "nbformat_minor": 2
}
