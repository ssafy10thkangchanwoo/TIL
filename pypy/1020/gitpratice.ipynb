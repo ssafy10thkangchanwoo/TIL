{
 "cells": [
  {
   "cell_type": "markdown",
   "metadata": {},
   "source": [
    "1. add 수정하기\n",
    "git restore <파일이름>\n",
    "    수정 전 내용으로 되돌린다.\n",
    "    \n",
    "commit을 했는지 안했는지 따라 \n",
    "if commit -> git restore --staged test.txt\n",
    "\n",
    "not commit -> git rm --cached test.txt \n",
    "\n",
    "2. commit 수정하기\n",
    "    got commit --amend \n",
    "    2-1. commit 메시지 수정하기\n",
    "    >> git commit -m 'B feature completed' \n",
    "    2-2. commit 덮어쓰기\n",
    "\n",
    "3. 커밋 되돌아가기\n",
    "    1. git reset -- soft <commit번호>\n",
    "        commit은 사라짐. 자료는 stage area에 남아있음.\n",
    "    2. git reset -- mixed<commit번호>\n",
    "\n",
    "    3. git reset --hard <commit번호>\n",
    "        다 사라져\n",
    "\n",
    "4.  남기면서 이전으로 ..커밋 남기면서\n",
    "    git revert "
   ]
  }
 ],
 "metadata": {
  "language_info": {
   "name": "python"
  }
 },
 "nbformat": 4,
 "nbformat_minor": 2
}
