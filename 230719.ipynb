{
 "cells": [
  {
   "cell_type": "markdown",
   "metadata": {},
   "source": [
    "## Function\n",
    "특정 작업을 수행하기 위한 재사용 가능한 코드 묶음\n",
    "함수를 사용하는 이유 ↓"
   ]
  },
  {
   "cell_type": "code",
   "execution_count": 9,
   "metadata": {},
   "outputs": [
    {
     "name": "stdout",
     "output_type": "stream",
     "text": [
      "8\n",
      "8\n"
     ]
    }
   ],
   "source": [
    "# 두 수의 합을 구하는 코드\n",
    "num1 = 5\n",
    "num2 = 3 \n",
    "sum_result = num1 + num2\n",
    "print(sum_result)\n",
    "\n",
    "# 두 수의 합을 구하는 함수\n",
    "def get_sum(num1, num2):\n",
    "    return num1+num2\n",
    "\n",
    "# 함수를 사용하여 결과를 출력\n",
    "n1 = 5\n",
    "n2 = 3\n",
    "sum_result=get_sum(n1, n2)\n",
    "print(sum_result)"
   ]
  },
  {
   "cell_type": "markdown",
   "metadata": {},
   "source": [
    "## Built-un function(내장 함수)\n",
    "파이썬에서 기본적으로 제공하는 잠수, 별도의 import 없이 사용 가능.\n",
    "ex) print, abs(절대값)"
   ]
  },
  {
   "cell_type": "markdown",
   "metadata": {},
   "source": [
    "## 함수호출(function call)\n",
    " 함수를 실행하기 위해 해당 코드 블록을 실행하는 것"
   ]
  },
  {
   "cell_type": "markdown",
   "metadata": {},
   "source": [
    "## 함수구조\n",
    "input(parameter)\n",
    "function body(docstring)\n",
    "output(return)"
   ]
  },
  {
   "cell_type": "code",
   "execution_count": 10,
   "metadata": {},
   "outputs": [],
   "source": [
    "def get_sum(pram1, pram2):\n",
    "    '''\n",
    "    이것은 두 수를 받아 두 수의 합을 반환하는 함수입니다\n",
    "    '''\n",
    "    return pram1+pram2"
   ]
  },
  {
   "cell_type": "code",
   "execution_count": 11,
   "metadata": {},
   "outputs": [
    {
     "name": "stdout",
     "output_type": "stream",
     "text": [
      "Hello,Alice\n"
     ]
    }
   ],
   "source": [
    "# 함수정의\n",
    "def greet(name):\n",
    "    \"\"\"입력된 이름값에 인사를 하는 메시지를 만드는 함수\n",
    "    \"\"\"\n",
    "    message = 'Hello,' + name   # sequence의 + 는 결합연산자\n",
    "    return message\n",
    "# Function body\n",
    "# 콜론 : 이후 작성된 코드 블록, 함수가 실행될 때 코드 정의\n",
    "# 함수 호출\n",
    "result = greet('Alice')\n",
    "print(result)\n",
    "\n",
    "# print는 terminal 결과에 출력, return은 받은 값을 반환.\n",
    "# 반환값이 없는 함수는 None이 출력 됨.\n",
    "# return은 함수종료 역할을 함."
   ]
  },
  {
   "cell_type": "markdown",
   "metadata": {},
   "source": [
    "## 매개변수(parameter)와 인자(argument)\n",
    "parameter : 함수를 정의할 때 함수가 받을 값을 나타내는 변수\n",
    "argument  : 함수를 호출할 때, 실제로 전달되는 값"
   ]
  },
  {
   "cell_type": "code",
   "execution_count": 12,
   "metadata": {},
   "outputs": [
    {
     "name": "stdout",
     "output_type": "stream",
     "text": [
      "5\n"
     ]
    }
   ],
   "source": [
    "def add_numbers(x,y): # x와 y는 매개변수\n",
    "    result = x + y \n",
    "    return result\n",
    "\n",
    "a = 2\n",
    "b = 3 \n",
    "sum_result = add_numbers(a, b) # a와 b는 argument\n",
    "print(sum_result)\n",
    "\n",
    "# 전달되는 인자/ 정의되는 매개변수"
   ]
  },
  {
   "cell_type": "markdown",
   "metadata": {},
   "source": [
    "## 인자의 종류\n",
    "1. Position Argument(위치인자)\n",
    "2. Default Argument Values(기본 인자 값)\n",
    "3. Keyword Argument(키워드 인자)\n",
    "4. Arbitrary Argument List(임의의 인자 목록)\n",
    "5. Arbitrary Keyword Arguemnt Lists(임의의 키워드 인자 목록)"
   ]
  },
  {
   "cell_type": "code",
   "execution_count": 13,
   "metadata": {},
   "outputs": [
    {
     "ename": "TypeError",
     "evalue": "greet() takes 1 positional argument but 2 were given",
     "output_type": "error",
     "traceback": [
      "\u001b[1;31m---------------------------------------------------------------------------\u001b[0m",
      "\u001b[1;31mTypeError\u001b[0m                                 Traceback (most recent call last)",
      "Cell \u001b[1;32mIn[13], line 4\u001b[0m\n\u001b[0;32m      2\u001b[0m \u001b[39mdef\u001b[39;00m \u001b[39mgreeting\u001b[39m(name, age):\n\u001b[0;32m      3\u001b[0m     \u001b[39mprint\u001b[39m(\u001b[39mf\u001b[39m\u001b[39m'\u001b[39m\u001b[39m안녕하세요, \u001b[39m\u001b[39m{\u001b[39;00mname\u001b[39m}\u001b[39;00m\u001b[39m님! \u001b[39m\u001b[39m{\u001b[39;00mage\u001b[39m}\u001b[39;00m\u001b[39m살이시군요!\u001b[39m\u001b[39m'\u001b[39m)\n\u001b[1;32m----> 4\u001b[0m greet(\u001b[39m'\u001b[39;49m\u001b[39mAlice\u001b[39;49m\u001b[39m'\u001b[39;49m, \u001b[39m25\u001b[39;49m) \n",
      "\u001b[1;31mTypeError\u001b[0m: greet() takes 1 positional argument but 2 were given"
     ]
    }
   ],
   "source": [
    "# Position Argument\n",
    "def greeting(name, age):\n",
    "    print(f'안녕하세요, {name}님! {age}살이시군요!')\n",
    "greet('Alice', 25) "
   ]
  },
  {
   "cell_type": "code",
   "execution_count": null,
   "metadata": {},
   "outputs": [
    {
     "name": "stdout",
     "output_type": "stream",
     "text": [
      "안녕하세요, Alice님! 25살이시군요!\n"
     ]
    }
   ],
   "source": [
    "# Default Argument Values\n",
    "# 함수 정의에서 기본 값을 할당하는 것. 인자를 전달 안하면 기본값이 할당 됨.\n",
    "def greeting(name, age=30):\n",
    "    print(f'안녕하세요, {name}님! {age}살이시군요!')\n",
    "greeting('Alice', 25) "
   ]
  },
  {
   "cell_type": "code",
   "execution_count": null,
   "metadata": {},
   "outputs": [
    {
     "name": "stdout",
     "output_type": "stream",
     "text": [
      "안녕하세요, Dave님! 25살이시군요!\n"
     ]
    }
   ],
   "source": [
    "# Keyword Argument\n",
    "# 특정 parameter에 값을 할당 , 순서를 신경 안 써도 됨.\n",
    "\n",
    "def greeting(name, age=30):\n",
    "    print(f'안녕하세요, {name}님! {age}살이시군요!')\n",
    "greeting(name = 'Dave', age = 25) \n"
   ]
  },
  {
   "cell_type": "code",
   "execution_count": null,
   "metadata": {},
   "outputs": [],
   "source": [
    "# Arbitrary Argument LIsts 정해지지 않은 개수의 인자를 처리하는 인자\n",
    "# 함수 정의 시 매개변수 앞에 * 붙여 사용, 여러개의 parameter을 tuple로 처리\n",
    "def calculate_sum(*args):\n",
    "    print(args) # \n",
    "    total = sum(args)\n",
    "    print(f'합계: {total}')"
   ]
  },
  {
   "cell_type": "code",
   "execution_count": null,
   "metadata": {},
   "outputs": [
    {
     "name": "stdout",
     "output_type": "stream",
     "text": [
      "{'name': 'Eve', 'age': 30, 'address': 'korea'}\n"
     ]
    }
   ],
   "source": [
    "# Arbitrary Keyword Argument Lists\n",
    "# 함수 정의 시 매개변수 앞에 **를 붙여 사용하여 dictonary처리함.\n",
    "def print_info(**kwargs):\n",
    "    print(kwargs) \n",
    "\n",
    "print_info(name=\"Eve\", age = 30, address = 'korea') \n",
    "# "
   ]
  },
  {
   "cell_type": "markdown",
   "metadata": {},
   "source": [
    "### print(*objects, sep=' ', end='\\n', file=sys.stdout, flush=False)\n",
    "* objects 가변인자\n",
    "end='\\n, file=sys.stdout, flush=False 기본인자\n",
    "end로 줄바꿈을 하고 있었다."
   ]
  },
  {
   "cell_type": "code",
   "execution_count": 16,
   "metadata": {},
   "outputs": [
    {
     "name": "stdout",
     "output_type": "stream",
     "text": [
      "hello world\n",
      "world\n"
     ]
    }
   ],
   "source": [
    "print('hello', end = ' ')\n",
    "print('world')\n",
    "print('world')"
   ]
  },
  {
   "cell_type": "markdown",
   "metadata": {},
   "source": [
    "## python의 Scope(범위)\n",
    "#### local scope / global scope\n",
    "1. global scope : 코드 어디에서든 참조할 수 있는 공간\n",
    "2. local scope  : 함수가 만든 scope"
   ]
  },
  {
   "cell_type": "code",
   "execution_count": 17,
   "metadata": {},
   "outputs": [
    {
     "name": "stdout",
     "output_type": "stream",
     "text": [
      "3\n"
     ]
    }
   ],
   "source": [
    "def my_function(): # local scope\n",
    "    num = 1 # local variable\n",
    "num = 3\n",
    "print(num) # global scope # global variable \n",
    "# local에 있는 건 global에서 사용할 수 없다."
   ]
  },
  {
   "cell_type": "markdown",
   "metadata": {},
   "source": [
    "## Lifecycle(변수 수명주기)\n",
    "변수의 수명주기는 변수가 선언되는 위치와 스코프에 따라 결정 됨.\n",
    "1. bulit-in scope \n",
    "    파이썬이 실행된 이후부터 영원히 유지\n",
    "2. global scope\n",
    "    모듈이 호출된 시점 이후 혹은 인터프리터가 끝날 때까지 유지\n",
    "3. local scope \n",
    "    함수가 호출될 때 생성되고, 함수가 종료될 때 유지"
   ]
  },
  {
   "cell_type": "markdown",
   "metadata": {},
   "source": [
    "#### Name Resolution(이름검색규칙)/LEGB Rule\n",
    "\n",
    "함수 내에서 바깥 Scope접근은 가능하나 수정은 할 수 없음.\n",
    "1. Local Scope\n",
    "2. Enclosed scope(함수 내 함수)\n",
    "3. Global scope\n",
    "4. Built-in scope\n"
   ]
  },
  {
   "cell_type": "code",
   "execution_count": null,
   "metadata": {},
   "outputs": [],
   "source": [
    "# LEGB Rule example\n",
    "a = 1\n",
    "b = 2\n",
    "def enclosed():\n",
    "    a = 10\n",
    "    c = 3\n",
    "    def local(c):\n",
    "        print(a, b, c) # ?\n",
    "    local(500)\n",
    "    print(a, b, c)\n",
    "\n",
    "enclosed()\n",
    "print(a, b)"
   ]
  },
  {
   "cell_type": "markdown",
   "metadata": {},
   "source": [
    "### 'global' keyword\n",
    "함수 내에서 전역변수로 수정하려는 경우에 사용"
   ]
  },
  {
   "cell_type": "code",
   "execution_count": null,
   "metadata": {},
   "outputs": [],
   "source": [
    "num = 0 #전역 변수\n",
    "def increment():\n",
    "    global num # num을 전역변수로 선언\n",
    "    num += 1 \n",
    "\n",
    "print(num)\n",
    "increment()\n",
    "print(num)"
   ]
  },
  {
   "cell_type": "code",
   "execution_count": 18,
   "metadata": {},
   "outputs": [
    {
     "ename": "SyntaxError",
     "evalue": "name 'num' is used prior to global declaration (2232421567.py, line 6)",
     "output_type": "error",
     "traceback": [
      "\u001b[1;36m  Cell \u001b[1;32mIn[18], line 6\u001b[1;36m\u001b[0m\n\u001b[1;33m    global num\u001b[0m\n\u001b[1;37m    ^\u001b[0m\n\u001b[1;31mSyntaxError\u001b[0m\u001b[1;31m:\u001b[0m name 'num' is used prior to global declaration\n"
     ]
    }
   ],
   "source": [
    "num = 0\n",
    "\n",
    "def increment():\n",
    "# SyntaxError: name 'num' is used prior to global declaration\n",
    "    print(num)\n",
    "    global num\n",
    "    num += 1"
   ]
  },
  {
   "cell_type": "code",
   "execution_count": null,
   "metadata": {},
   "outputs": [],
   "source": [
    "num = 10\n",
    "def myfunc():\n",
    "    global num\n",
    "    num = 20 \n",
    "    print(\"함수 실행: num을 20으로 바꿨다.\")\n",
    "    print(num)\n",
    "myfunc()\n",
    "\n",
    "print(num)"
   ]
  },
  {
   "cell_type": "markdown",
   "metadata": {},
   "source": [
    "## 재귀함수\n",
    "함수 내부에서 자기 자신을 호출하는 함수\n",
    "\n",
    "### 재귀함수 특징 \n",
    "특정 알고리즘식을 표현할 때 변수사용이 줄어들음.\n",
    "### 1개 이상의 basecase(존재하는 상황)이 존재하고 수렴하도록 작성\n",
    "\n",
    "### 재귀함수예시 \n",
    "팩토리얼\n",
    "* 재귀적으로 호출\n",
    "1. 종료조건을 명확히\n",
    "2. 반복되는 호출이 종료조건을 향하도록\n",
    " * 재귀 호출은 n == 0이 될 때까지 반복\n",
    "f = n!\n",
    "\n",
    "f(4) = 4 * f(3)\n",
    "f(3) = 3 * f(2)\n",
    "f(2) = 2 * f(1)\n",
    "f(1) = 1 "
   ]
  },
  {
   "cell_type": "code",
   "execution_count": 20,
   "metadata": {},
   "outputs": [
    {
     "name": "stdout",
     "output_type": "stream",
     "text": [
      "120\n"
     ]
    }
   ],
   "source": [
    "def factorial(n):\n",
    "    # 종료 조건: n이 0이면 1을 반환\n",
    "    if n == 0:\n",
    "        return 1\n",
    "    # 재귀 호출 : n과 n-1의 팩토리얼을 곱한 결과를 반환\n",
    "    return n * factorial(n - 1)\n",
    "\n",
    "result = factorial(5)\n",
    "print(result)"
   ]
  },
  {
   "cell_type": "markdown",
   "metadata": {},
   "source": [
    "### 유용한 내장함수\n",
    "1. map(function, iterable)\n",
    " 순회 가능한 데이터구조(interable)의 모든 요소를 함수에 적용하고, 그 결과를 map object에 반환"
   ]
  },
  {
   "cell_type": "code",
   "execution_count": 1,
   "metadata": {},
   "outputs": [
    {
     "name": "stdout",
     "output_type": "stream",
     "text": [
      "<map object at 0x00000228A656C1C0>\n",
      "['1', '2', '3']\n"
     ]
    }
   ],
   "source": [
    "numbers = [1, 2, 3]\n",
    "result = map(str, numbers)\n",
    "\n",
    "print(result)\n",
    "print(list(result))"
   ]
  },
  {
   "cell_type": "code",
   "execution_count": 22,
   "metadata": {},
   "outputs": [
    {
     "name": "stdout",
     "output_type": "stream",
     "text": [
      "['1', '2', '3']\n"
     ]
    }
   ],
   "source": [
    "numbers=[1, 2, 3]\n",
    "result = []\n",
    "for number in numbers:\n",
    "    result.append(str(number))\n",
    "    \n",
    "print(result)"
   ]
  },
  {
   "cell_type": "markdown",
   "metadata": {},
   "source": [
    "2.Zip(*interables)\n",
    "임의의 iterable을 모아 튜플 원소로 하는 zip projdect를 반환"
   ]
  },
  {
   "cell_type": "code",
   "execution_count": 3,
   "metadata": {},
   "outputs": [
    {
     "name": "stdout",
     "output_type": "stream",
     "text": [
      "<zip object at 0x00000228A657EFC0>\n",
      "[('jane', 'peter'), ('ashley', 'jay'), ('hana', 'maru')]\n"
     ]
    }
   ],
   "source": [
    "girls = ['jane', 'ashley', 'hana']\n",
    "boys = ['peter', 'jay', 'maru']\n",
    "pair = zip(girls, boys)\n",
    "print(pair)\n",
    "print(list(pair))"
   ]
  },
  {
   "cell_type": "markdown",
   "metadata": {},
   "source": [
    "3. lambda 함수\n",
    "    lambda 매개변수: 표현식\n",
    "    간단한 연산이나 함수를 한 줄로 표현할 때 사용, 한번만 쓸 때?\n",
    "\n",
    "4. filter\n",
    "    filter(fucntion, iterable)\n",
    "    리스트의 홀수만을 걸러내는 함수\n",
    "    function의 결과는 True of False 라는 점.\n",
    "    결과가 True인 것만 골라서 반환\n"
   ]
  },
  {
   "cell_type": "code",
   "execution_count": null,
   "metadata": {},
   "outputs": [],
   "source": [
    "addition = lambda x, y: x+y\n",
    "result = addition(3, 5)\n",
    "print(result)"
   ]
  },
  {
   "cell_type": "code",
   "execution_count": null,
   "metadata": {},
   "outputs": [],
   "source": [
    "def odd(n):\n",
    "    return n % 2 \n",
    "\n",
    "numbers = [1, 2, 3, 4, 5]\n",
    "new_numbers = list(filter(odd,numbers))\n",
    "print(new_numbers)"
   ]
  },
  {
   "cell_type": "markdown",
   "metadata": {},
   "source": [
    "## Packing\n",
    "여러개의 값을 하나의 변수에 묶어서 담는 것\n",
    "변수에 담긴 값들은 tuple 형태로 묶임\n",
    "\n",
    "*b 는 남은 요소들을 리스트로 패킹하여 할당"
   ]
  },
  {
   "cell_type": "code",
   "execution_count": 23,
   "metadata": {},
   "outputs": [
    {
     "name": "stdout",
     "output_type": "stream",
     "text": [
      "(1, 2, 3, 4, 5)\n"
     ]
    }
   ],
   "source": [
    "packed_value = 1, 2, 3, 4, 5\n",
    "print(packed_value)"
   ]
  },
  {
   "cell_type": "code",
   "execution_count": 24,
   "metadata": {},
   "outputs": [
    {
     "name": "stdout",
     "output_type": "stream",
     "text": [
      "1\n",
      "[2, 3, 4]\n",
      "5\n"
     ]
    }
   ],
   "source": [
    "numbers = [1, 2, 3, 4, 5]\n",
    "a, *b, c = numbers\n",
    "print(a)\n",
    "print(b)\n",
    "print(c)"
   ]
  },
  {
   "cell_type": "markdown",
   "metadata": {},
   "source": [
    "Unpacking : 패킹된 변수값을 개별적인 변수로 분리하여 할당하는 것\n"
   ]
  },
  {
   "cell_type": "code",
   "execution_count": null,
   "metadata": {},
   "outputs": [],
   "source": [
    "packed_values = 1, 2, 3, 4, 5\n",
    "a, b, c, d, e = packed_values\n",
    "print(a, b, c, d, e)"
   ]
  },
  {
   "cell_type": "markdown",
   "metadata": {},
   "source": [
    "* 는 리스트 요소를 언패킹\n"
   ]
  },
  {
   "cell_type": "code",
   "execution_count": 6,
   "metadata": {},
   "outputs": [
    {
     "name": "stdout",
     "output_type": "stream",
     "text": [
      "alice jane peter\n"
     ]
    }
   ],
   "source": [
    "names = ['alice', 'jane', 'peter']\n",
    "print(*names)"
   ]
  },
  {
   "cell_type": "markdown",
   "metadata": {},
   "source": [
    "\n",
    "** 는 딕셔너리 키-값 쌍을 함수 키워드 인자로 언패킹"
   ]
  },
  {
   "cell_type": "code",
   "execution_count": 25,
   "metadata": {},
   "outputs": [
    {
     "name": "stdout",
     "output_type": "stream",
     "text": [
      "1 2 3\n"
     ]
    }
   ],
   "source": [
    "def my_function(x, y, z):\n",
    "    print(x, y, z)\n",
    "\n",
    "my_dict = {'x': 1, 'y' : 2, 'z' : 3}\n",
    "my_function(**my_dict)"
   ]
  },
  {
   "cell_type": "markdown",
   "metadata": {},
   "source": [
    "## Module\n",
    " 한 파일로 묶인 변수와 함수의 모음\n",
    "### 가져오기\n",
    "ex) import math,   help(math)를 사용해 모듈에 뭐가 이쓴ㄴ지 확인 가능\n",
    "\n",
    "### 사용하기\n",
    "' . ' 은 왼쪽 객체에서 점의 오른쪽의 이름을 찾으라는 의미의 연산자\n",
    "\n",
    "### from math import pi, sqrt\n",
    "어떤 요소를 import할지 미리 명시\n",
    "\n",
    "## "
   ]
  },
  {
   "cell_type": "code",
   "execution_count": 26,
   "metadata": {},
   "outputs": [
    {
     "name": "stdout",
     "output_type": "stream",
     "text": [
      "3.141592653589793\n",
      "2.0\n"
     ]
    }
   ],
   "source": [
    "import math\n",
    "print(math.pi)\n",
    "print(math.sqrt(4))"
   ]
  },
  {
   "cell_type": "code",
   "execution_count": null,
   "metadata": {},
   "outputs": [],
   "source": [
    "from math import pi, sqrt\n",
    "\n",
    "print(pi)\n",
    "print(sqrt(4))\n"
   ]
  },
  {
   "cell_type": "code",
   "execution_count": 29,
   "metadata": {},
   "outputs": [
    {
     "name": "stdout",
     "output_type": "stream",
     "text": [
      "8\n"
     ]
    }
   ],
   "source": [
    "from my_package.math import my_math\n",
    "\n",
    "print(my_math.add(3, 5))"
   ]
  }
 ],
 "metadata": {
  "kernelspec": {
   "display_name": "Python 3",
   "language": "python",
   "name": "python3"
  },
  "language_info": {
   "codemirror_mode": {
    "name": "ipython",
    "version": 3
   },
   "file_extension": ".py",
   "mimetype": "text/x-python",
   "name": "python",
   "nbconvert_exporter": "python",
   "pygments_lexer": "ipython3",
   "version": "3.9.13"
  },
  "orig_nbformat": 4
 },
 "nbformat": 4,
 "nbformat_minor": 2
}
