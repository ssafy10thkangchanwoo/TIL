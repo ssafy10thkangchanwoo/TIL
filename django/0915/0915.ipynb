{
 "cells": [
  {
   "cell_type": "markdown",
   "metadata": {},
   "source": [
    "## ORM(object-Relational_Mapping)\n",
    "\n",
    "객체 지향 프로그래밍 언어를 사용하여\n",
    "호환되지 않는 유형의 시스템간에\n",
    "데이터를 변환하는 기술\n",
    " \n",
    " -장고에 내장된 ORM기술로 SQL\n",
    "\n",
    " ### QuerySetAPI\n",
    " ORM에서 데이터를 검색, 필터링, 정렬 및 그룹화 하는데 사용하는 도구\n",
    " API를 사용하여 SQL이 아닌 Python코드로 데이터를 처리\n",
    "\n",
    " ### QuerySetAPI 구문\n",
    "\n",
    " Article.objects.all()\n",
    " Article : Model class\n",
    " object: manager  \n",
    " 메서드를 사용하려면 매니저가 있어야한다.\n",
    " QUeryset API : 메서드\n",
    "\n",
    " ### Query \n",
    " 데이터베이스에 특정한 데이터를 보내달라는 요청\n",
    "\n",
    " ### QuerySet\n",
    " 데이터베이스에게서 전달받은 객체 목록(데이터모음)\n",
    "- Django ORM을 통해 만들어진 자료형<<sql에서 받아오는거 말한거 아니었나?>>\n",
    "\n",
    "## Django shell\n",
    "Django 환경 안에서 실행되는 python shell\n",
    "shell_plus vs shell\n",
    "shell_plus에서 자동완성/사전import기능제공으로 편리함\n",
    "*ctrl+L 누르면 터미널에서잡다한거 사라짐\n"
   ]
  },
  {
   "cell_type": "markdown",
   "metadata": {},
   "source": [
    "### Article.objects.all()\n",
    "- QuerySet을 반환한다. \n",
    "- all(하나의덩어리)은 특이하게 0개여도 하나여도 queryset으로 반환\n",
    "\n",
    "* 장고는 id보다는 PK(primary key)를 사용토록 권장\n",
    "\n",
    "### 데이터객체 생성하는 방법 1\n",
    "인스턴스 만들고 저장하는 방식\n",
    "article = Article()\n",
    "article.title = 'first'\n",
    "article.content = 'django'\n",
    "\n",
    "### 데이터객체 생성하는 방법 2\n",
    "article = Article(title='second', content='django!!')\n",
    "\n",
    "## 데이터객체 생성하는 방법 3\n",
    "Article.object.create(title='third', content='django!!!')\n",
    "\n",
    "\n",
    "### 전체 데이터 조회\n",
    "Aticle.objects.all()\n",
    "\n",
    "### 단일 데이터 조회\n",
    "Article.objects.get(where?)\n",
    "Article.objects.get(pk=2)\n",
    "Article.objects.get(content='django!')\n",
    "-> 단일 데이터 조회인데 복수 데이터를 조회하게끔 하면 에러 발생\n",
    "    그러니 중복될 수 없는 값, unique한 pk를 조회할 떄 사용하기 적합\n",
    "    DoesNotExist : 객체가 없다\n",
    "    MultipleObjectsReturned : 둘 이상 객체 존재\n",
    "\n",
    "### 특정 조건 데이터 조회\n",
    "Article.objects.filter(content='django!')\n",
    "해당 내용 쿼리셋 모두 반환\n",
    "get과 달리 조건에 해당하지 않는 데이터에 대해서는 [] 반환함\n",
    "\n",
    "#### Field lookup\n",
    "1. Article.obejcts.filter(content__contains='dja') \n",
    "- dja라는 글자이 들어있는 쿼리셋을 주세요\n",
    "\n",
    "2. 비교..등등..\n",
    "\n",
    "### 수정\n",
    "article = Article.objects.get(pk=1)\n",
    "article.title = 'byebye'\n",
    "article.save()\n",
    "\n",
    "### 삭제\n",
    "article.delete()\n",
    "\n",
    "\n"
   ]
  },
  {
   "cell_type": "markdown",
   "metadata": {},
   "source": []
  },
  {
   "cell_type": "markdown",
   "metadata": {},
   "source": []
  },
  {
   "cell_type": "markdown",
   "metadata": {},
   "source": []
  },
  {
   "cell_type": "code",
   "execution_count": null,
   "metadata": {
    "vscode": {
     "languageId": "plaintext"
    }
   },
   "outputs": [],
   "source": []
  }
 ],
 "metadata": {
  "language_info": {
   "name": "python"
  },
  "orig_nbformat": 4
 },
 "nbformat": 4,
 "nbformat_minor": 2
}
