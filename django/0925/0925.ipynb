{
 "cells": [
  {
   "cell_type": "markdown",
   "metadata": {},
   "source": [
    "migrate : makemigrations에서 생성된 설계도를 sql에 넘겨"
   ]
  },
  {
   "cell_type": "markdown",
   "metadata": {},
   "source": [
    "## 관리자계정에서 모델 사용하기\n",
    "\n",
    "from django.contrib import admin\n",
    "from .models import Article\n",
    "\n",
    "admin.site.register(Article)"
   ]
  },
  {
   "cell_type": "markdown",
   "metadata": {},
   "source": [
    "## \"POST\" Method \n",
    "\n",
    "생성/수정/삭제를 요구하는 요청 \n",
    "DB에 조작을 가하는 요청은 반드시 인증수단 필요\n",
    "최소한의 신원을 확인하는 토큰 필요\n",
    "\n",
    "## CSRF(Cross-Site-Request-Forgery)\n"
   ]
  },
  {
   "cell_type": "markdown",
   "metadata": {},
   "source": [
    "## Redirect \n",
    "클라이언트가 다시한번 특정한 주소를 조회하게 한다.\n",
    "\n"
   ]
  },
  {
   "cell_type": "markdown",
   "metadata": {},
   "source": [
    "1. url\n",
    "2. views"
   ]
  },
  {
   "cell_type": "markdown",
   "metadata": {},
   "source": []
  }
 ],
 "metadata": {
  "language_info": {
   "name": "python"
  },
  "orig_nbformat": 4
 },
 "nbformat": 4,
 "nbformat_minor": 2
}
