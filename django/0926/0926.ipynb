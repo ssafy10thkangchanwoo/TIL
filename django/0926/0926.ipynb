{
 "cells": [
  {
   "cell_type": "markdown",
   "metadata": {},
   "source": [
    "## 유효성 검사\n",
    "\n",
    "HTML의 form은 필터링이 없어 보안에 취약한 것 같다.\n",
    "django의 form은 이를 보완할 수 있다.\n",
    "\n",
    "## Django Form\n",
    " 사용자 입력 데이터 수집, 처리 및 유효성 검사 제공\n",
    "\n",
    "## 과정 \n",
    "1. 앱에서 파이썬 추가\n",
    "\n",
    "from django import forms \n",
    "\n",
    "class ArticleForm(forms.Form):\n",
    "    title = forms.CharField(max_length=10)\n",
    "    content = forms.CharField() \n",
    "    # forms 안에도 많은 필드가 있다.\n",
    "    # form에 문자 필드는 CharField밖에 없다.\n",
    "    # motel은 테이블을 만드려고 하는 것\n",
    "    # form은 html의 form이 된다\n",
    "\n",
    "\n",
    "2.  views에서\n",
    "from .forms import ArticleForm\n",
    "\n",
    "def new(request):\n",
    "    form = ArticleForm()\n",
    "    context = {\n",
    "        'form' : form,\n",
    "    }\n",
    "    return render(request, 'articles/new.html', context)\n",
    "\n",
    " form 클래서에서 인스턴스를 만든다.\n",
    "\n",
    "\n",
    "\n",
    "3. html에서\n",
    "     {% comment %} <div>\n",
    "      <label for=\"title\">제목 : </label>\n",
    "      <input type=\"text\" id=\"title\" name=\"title\">\n",
    "    </div>\n",
    "    <div>\n",
    "      <label for=\"content\">내용 : </label>\n",
    "      <textarea name=\"content\" id=\"content\" cols=\"30\" rows=\"10\"></textarea>\n",
    "    </div> {% endcomment %}\n",
    "\n",
    "    위의 내용을 이것으로 간단히 대체 가능\n",
    "        {{ form }}\n",
    "\n",
    "    줄바꿈은  {{ form.as_p }} form의 속성값 한줄짜리라...\n",
    "\n"
   ]
  },
  {
   "cell_type": "markdown",
   "metadata": {},
   "source": [
    "## Widget \n",
    "    HTML 'imput' 의 element 의 표현을 담당\n",
    "    form 기능 보완"
   ]
  },
  {
   "cell_type": "code",
   "execution_count": null,
   "metadata": {},
   "outputs": [],
   "source": [
    "from django import forms \n",
    "\n",
    "class ArticleForm(forms.Form):\n",
    "    title = forms.CharField(max_length=10)\n",
    "    content = forms.CharField(widget=forms.Textarea) "
   ]
  },
  {
   "cell_type": "markdown",
   "metadata": {},
   "source": [
    "## Django modelform\n",
    "폼이랑 모델이랑 너무 비슷해서 합쳐서 모델의 기반으로 폼을 씀\n",
    " Model과 연결된 Form을 자동으로 생성해주는 기능\n",
    "\n",
    "Form : 사용자 입력 데이터를 DB에 저장하지 않을 때\n",
    "로그인\n",
    "\n",
    "ModelForm: 사용자 입력 데이터를 DB에 저장해야 할 때\n",
    "게시글, 회원가입"
   ]
  },
  {
   "cell_type": "code",
   "execution_count": null,
   "metadata": {},
   "outputs": [],
   "source": [
    "class ArticleForm(forms.ModelForm):\n",
    "    # Model 등록\n",
    "    class Meta:\n",
    "        model = Article \n",
    "        fields = '__all__'\n",
    "\n",
    "\n",
    "# 제외하기\n",
    "class ArticleForm(forms.ModelForm):\n",
    "    # Model 등록\n",
    "    class Meta:\n",
    "        model = Article \n",
    "        # fields = '__all__'\n",
    "        fields = ('title',)  # 나오게 하는 것을 지정\n",
    "        exclude = ('title',) # 제외"
   ]
  },
  {
   "cell_type": "markdown",
   "metadata": {},
   "source": [
    "정보에 대한 정보 -> Meta라고 함\n",
    " model form에 모델을 등록하는 과정\n",
    " all은 모든 영역 \n",
    "\n",
    " 입력받을 것을 알아서 rendering해줌.\n",
    " "
   ]
  },
  {
   "cell_type": "markdown",
   "metadata": {},
   "source": [
    "## is_valid()\n",
    "유효성검사\n",
    "-빈값은 기본적으로 False"
   ]
  },
  {
   "cell_type": "markdown",
   "metadata": {},
   "source": [
    "update와 create의 코드가 똑같아버리면 \n",
    "form.save()에서 생성/수정 둘 다 발생\n",
    "save가 판단할 기준 필요\n",
    "수정일 때 instance값이 있으면 수정역할 하게끔 "
   ]
  },
  {
   "cell_type": "markdown",
   "metadata": {},
   "source": [
    "데이터 data= 생략 가능한 이유\n",
    "form = ArticleForm(request.POST, instance=article) \n",
    "data는 첫번째 인자로 받아서 data=request 안써도 알아서 데이터로 인식함.\n"
   ]
  },
  {
   "cell_type": "markdown",
   "metadata": {},
   "source": [
    "## form 커스터마이징\n",
    "\n",
    "class Article(forms.ModelForm):\n",
    "    title = forms.CharField(\n",
    "        label = '제목',\n",
    "        widget = forms.TextInput(\n",
    "            attrs = {\n",
    "                'class': 'my-title'\n",
    "            }\n",
    "        )\n",
    "    )\n",
    "이렇게 widget 응용가능\n",
    "html보다 불편하지만 form을 사용해 편리함/유효성검사를 얻음."
   ]
  },
  {
   "cell_type": "markdown",
   "metadata": {},
   "source": [
    "## new & create view 함수간 공통점/차이점\n",
    "1. 공통점 : 게시글 생성할 때 다룸\n",
    "2. new->테이블과 연동, 조회만 해 GET\n",
    "    create->DB 저장, 생성을 함 POST \n",
    "\n",
    "병합하자"
   ]
  },
  {
   "cell_type": "markdown",
   "metadata": {},
   "source": [
    "href는 get메서드만 사용"
   ]
  }
 ],
 "metadata": {
  "language_info": {
   "name": "python"
  },
  "orig_nbformat": 4
 },
 "nbformat": 4,
 "nbformat_minor": 2
}
