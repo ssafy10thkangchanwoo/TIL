{
 "cells": [
  {
   "cell_type": "markdown",
   "metadata": {},
   "source": [
    "## DTL(Django templates language)\n",
    "-{{name(key값)}}\n",
    "1. Variable\n",
    "    render함수의 세번째 인자로 딕셔너리 데이터 사용\n",
    "    . 을 사용하여 변수 속성에 접근할 수 있음\n",
    "\n",
    "2. Filter\n",
    "    | 표시할 변수를 수정할 때 사용\n",
    "\n",
    "\n",
    "3. Tags\n",
    "    반복 또는 논리\n",
    "    일부 태그는 시작과 종료 태그가 필요\n",
    "    {% tag %}\n",
    "    {% if %} {% endif %} \n",
    "\n",
    "4. comments\n",
    "    주석.\n",
    "    {% comment %} \n",
    "    {% if name == ...}\n",
    "    {% endcomment %}\n",
    "    "
   ]
  },
  {
   "cell_type": "markdown",
   "metadata": {},
   "source": [
    "## 템플릿 상속\n",
    "\n",
    "페이지의 공통요소 포함하고 (cnd을 다 넘겨주고)\n",
    "하위 템플릿이 재정의 할 수 있는 공간을 정의 ( 넘겨준 공간에 내용을 채워라)\n",
    "\n",
    "### 작성법 \n",
    "자식 html에서 \n",
    "{% extents \"articles/base.html\" %}\n",
    "\n",
    "\n",
    "extend' tag \n",
    "'block' tag 하위 템플릿이 작성할 수 있는 공간 지정"
   ]
  },
  {
   "cell_type": "markdown",
   "metadata": {},
   "source": [
    "\n",
    "form element \n",
    "\n",
    " <form action=\"https://search.naver.com/search.naver/ method = \"GET\">\n",
    "\n",
    "input element\n",
    "사용자의 데이터를 입력 받을 수 있는 요소\n",
    "    <input type=\"text\" name=\"query\">\n",
    "name attribute\n",
    "서버로 보내는 key, 입력한 데이터를 붙이는 이름\n",
    "데이터를 제출했을 때 서버는 key에 설정되어 있는 속성값을 받음.\n",
    "\n",
    "Query String Parameter\n"
   ]
  },
  {
   "cell_type": "markdown",
   "metadata": {},
   "source": [
    "### URL dispatcher\n",
    "URL 패턴을 정의하고\n",
    "해당 패턴이 일치하는 요청을 처리할 view와 매핑\n",
    "\n",
    "### Variable Routing\n",
    " URL 일부에 변수를 포함시키는 것\n",
    "\n",
    " ## Path converter\n",
    "  URL 변수의 타입을 지정\n",
    "\n"
   ]
  },
  {
   "cell_type": "markdown",
   "metadata": {},
   "source": []
  }
 ],
 "metadata": {
  "language_info": {
   "name": "python"
  },
  "orig_nbformat": 4
 },
 "nbformat": 4,
 "nbformat_minor": 2
}
