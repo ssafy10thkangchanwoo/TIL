{
 "cells": [
  {
   "cell_type": "markdown",
   "metadata": {},
   "source": [
    "## 정적파일 \n",
    "    1. 정의\n",
    "    - 고정적으로 제공되는 파일\n",
    "\n",
    "    2. 어떻게 사용하나\n",
    "    경로 지정해서\n",
    "    3. 경로는 어떻게 지정하나\n",
    "        1. 기본경로\n",
    "            기본적으로 articles/static/articles\n",
    "            articles/static까진 기본값이여서 그 뒤에만 쓰면 됨\n",
    "            일반 경로에는 static file을 사용하지 못한다.\n",
    "\n",
    "            아래의 태그는 built-in 이 안된 것이라 load를 해야한다.\n",
    "            {% load static %}\n",
    "            이후 이하와 같이 작성\n",
    "            src=\"{% static \"articles/sample-1.png\" %}\"\n",
    "        2. 추가경로\n",
    "            settings에 \n",
    "            STATICFILES_DIRS 생성 \n",
    "\n"
   ]
  },
  {
   "cell_type": "markdown",
   "metadata": {},
   "source": [
    "## MEDIA files\n",
    "\n",
    "1. 정의 \n",
    "미디어 파일 , 사용자가 올린 static file\n",
    "\n",
    "2. 어떻게 사용하나\n",
    "사용하기 전에 \n",
    "settings.py MEDIA_ROOT ,MEDIA_URL 설정 \n",
    "작성한 MEDIT_ROOT, MEDIA_URL url에 연결\n",
    "\n",
    "MEDIA_ROOT : 미디어파일들이 위치한 디렉토리의 절대경로\n",
    "MEDIA_URL : 미디어파일에 대한 주소를 생성\n",
    "\n",
    "enctype=\"\" \n",
    "post인 경우 input type = \"file인 경우 \n",
    "multipart/form-data 사용\n",
    "\n",
    "\n",
    "view함수에서 처리를 못하고 있음\n",
    "request.POST request.FILES 파일은 별도로 관리하고 있음. 그러니 이것도 받도록 추가\n",
    "\n",
    "경로에 올라가 있고 그 경로가 데이터베이스에 저장됨.\n",
    "그 경로를 이용하여 출력\n",
    "이건 이미 준비된 파일(정적 파일)이 아님\n",
    "url 속성을 통해 경로값을 얻을 수 있음.\n",
    "  <img src='{{ article.image.url }}' alt=''>\n",
    "\n",
    "\n",
    "다수의 사용자가 한 곳에 파일을 다 올리면 관리에 어려움\n",
    "파일저장위치 설정\n",
    "image = models.ImageField(blank=True, upload_to = 'images/')\n",
    "미디어 루트 이후 경로 설정 가능함.\n",
    "\n",
    "\n"
   ]
  },
  {
   "cell_type": "code",
   "execution_count": null,
   "metadata": {
    "vscode": {
     "languageId": "plaintext"
    }
   },
   "outputs": [],
   "source": [
    "경로로 저장하는 이유\n",
    "\n",
    "1. 성능 및 DB 최적화\n",
    "-직접 파일을 저장하면 DB크기가 급격하게 증가\n",
    "-> 성능 저하 \n",
    "\n",
    "2. 유지 보수 관점\n",
    "- 만약 db에 직접 파일을 저장하면 나중에 변경 및 업데이트 할 때 직접 db조작해야 함.\n",
    "- db경로만 저장되어 있다면 파일시스템에서만 파일을 수정하면 됨.\n"
   ]
  }
 ],
 "metadata": {
  "language_info": {
   "name": "python"
  },
  "orig_nbformat": 4
 },
 "nbformat": 4,
 "nbformat_minor": 2
}
