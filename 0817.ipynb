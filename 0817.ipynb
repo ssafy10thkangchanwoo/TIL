{
 "cells": [
  {
   "cell_type": "markdown",
   "metadata": {},
   "source": [
    "createQueue\n",
    "Q = [0] * 100\n",
    "front = -1\n",
    "rear = -1\n",
    "\n",
    "enQueue(A)\n",
    "rear += 1\n",
    "Q[rear]=A\n",
    "\n",
    "enQueue(B)\n",
    "rear += 1\n",
    "Q[rear]=B\n",
    "\n",
    "deQueue()\n",
    "front += 1\n",
    "\n",
    "enQueue(C)\n",
    "rear += 1\n",
    "Q[rear]=C\n",
    "\n",
    "empty\n",
    "front == rear\n",
    "\n"
   ]
  },
  {
   "cell_type": "markdown",
   "metadata": {},
   "source": [
    "### 선형큐\n",
    "1. 초기상태\n",
    "front = rear = -1\n",
    "2. 공백상태\n",
    "front = rear \n",
    "3. 포화상태\n",
    "rear = N-1\n",
    "\n",
    "#### 초기 공백 큐 생성\n",
    "1. 크기가 n인 1차원 배열 생성\n",
    "2. front =rear = - 1\n"
   ]
  },
  {
   "cell_type": "code",
   "execution_count": 2,
   "metadata": {},
   "outputs": [
    {
     "name": "stdout",
     "output_type": "stream",
     "text": [
      "Q is full\n"
     ]
    }
   ],
   "source": [
    "# EnQueue\n",
    "def enQ(data):\n",
    "    global rear \n",
    "    if rear == Qsize-1: # 꽉 찼다.\n",
    "        print('Q is full')\n",
    "    else:\n",
    "        rear += 1\n",
    "        Q[rear] = data\n",
    "\n",
    "Qsize = 3\n",
    "Q = [0]*Qsize\n",
    "rear = -1\n",
    "front = -1\n",
    "enQ(1)\n",
    "enQ(2)\n",
    "enQ(3)\n",
    "enQ(4)"
   ]
  },
  {
   "cell_type": "code",
   "execution_count": 5,
   "metadata": {},
   "outputs": [
    {
     "name": "stdout",
     "output_type": "stream",
     "text": [
      "Q is full\n",
      "1\n",
      "2\n",
      "3\n",
      "Queue is empty)\n"
     ]
    },
    {
     "ename": "IndexError",
     "evalue": "list index out of range",
     "output_type": "error",
     "traceback": [
      "\u001b[1;31m---------------------------------------------------------------------------\u001b[0m",
      "\u001b[1;31mIndexError\u001b[0m                                Traceback (most recent call last)",
      "Cell \u001b[1;32mIn[5], line 28\u001b[0m\n\u001b[0;32m     26\u001b[0m \u001b[39mprint\u001b[39m(deQ())\n\u001b[0;32m     27\u001b[0m \u001b[39mprint\u001b[39m(deQ())\n\u001b[1;32m---> 28\u001b[0m \u001b[39mprint\u001b[39m(deQ())\n",
      "Cell \u001b[1;32mIn[5], line 15\u001b[0m, in \u001b[0;36mdeQ\u001b[1;34m()\u001b[0m\n\u001b[0;32m     13\u001b[0m     \u001b[39mprint\u001b[39m(\u001b[39m'\u001b[39m\u001b[39mQueue is empty)\u001b[39m\u001b[39m'\u001b[39m)\n\u001b[0;32m     14\u001b[0m front \u001b[39m+\u001b[39m\u001b[39m=\u001b[39m \u001b[39m1\u001b[39m\n\u001b[1;32m---> 15\u001b[0m \u001b[39mreturn\u001b[39;00m Q[front]\n",
      "\u001b[1;31mIndexError\u001b[0m: list index out of range"
     ]
    }
   ],
   "source": [
    "# deQueue\n",
    "def enQ(data):\n",
    "    global rear \n",
    "    if rear == Qsize-1: # 꽉 찼다.\n",
    "        print('Q is full')\n",
    "    else:\n",
    "        rear += 1\n",
    "        Q[rear] = data\n",
    "\n",
    "def deQ():\n",
    "    global front\n",
    "    if rear == front:\n",
    "        print('Queue is empty)')\n",
    "        return -1\n",
    "    front += 1\n",
    "    return Q[front]\n",
    "\n",
    "Qsize = 3\n",
    "Q = [0]*Qsize\n",
    "rear = -1\n",
    "front = -1\n",
    "enQ(1)\n",
    "enQ(2)\n",
    "enQ(3)\n",
    "enQ(4)\n",
    "print(deQ())\n",
    "print(deQ())\n",
    "print(deQ())\n",
    "print(deQ())\n"
   ]
  },
  {
   "cell_type": "code",
   "execution_count": 6,
   "metadata": {},
   "outputs": [
    {
     "ename": "IndexError",
     "evalue": "list index out of range",
     "output_type": "error",
     "traceback": [
      "\u001b[1;31m---------------------------------------------------------------------------\u001b[0m",
      "\u001b[1;31mIndexError\u001b[0m                                Traceback (most recent call last)",
      "Cell \u001b[1;32mIn[6], line 4\u001b[0m\n\u001b[0;32m      2\u001b[0m \u001b[39mwhile\u001b[39;00m front \u001b[39m!=\u001b[39m rear:\n\u001b[0;32m      3\u001b[0m     front \u001b[39m+\u001b[39m\u001b[39m=\u001b[39m \u001b[39m1\u001b[39m\n\u001b[1;32m----> 4\u001b[0m     \u001b[39mprint\u001b[39m(Q[front])\n\u001b[0;32m      6\u001b[0m \u001b[39m# isEmpty()\u001b[39;00m\n\u001b[0;32m      7\u001b[0m \u001b[39mdef\u001b[39;00m \u001b[39misEmpty\u001b[39m():\n",
      "\u001b[1;31mIndexError\u001b[0m: list index out of range"
     ]
    }
   ],
   "source": [
    "# deQueue 다른 표현\n",
    "while front != rear:\n",
    "    front += 1\n",
    "    print(Q[front])\n",
    "\n",
    "# isEmpty()\n",
    "def isEmpty():\n",
    "    return front == rear\n",
    "\n",
    "# Full()\n",
    "def Full():\n",
    "    return rear == len(Q) -1\n",
    "\n",
    "# Qpeek()\n",
    "def Qpeek():\n",
    "    if isEmpty(): pirnt(\"Queue_Empty\")\n",
    "    else: return Q[front+1]\n",
    "    "
   ]
  },
  {
   "cell_type": "code",
   "execution_count": 8,
   "metadata": {},
   "outputs": [
    {
     "name": "stdout",
     "output_type": "stream",
     "text": [
      "1\n",
      "2\n",
      "3\n",
      "[]\n"
     ]
    }
   ],
   "source": [
    "Q = []\n",
    "Q.append(1)\n",
    "Q.append(2)\n",
    "Q.append(3)\n",
    "print(Q.pop(0))\n",
    "print(Q.pop(0))\n",
    "print(Q.pop(0))\n",
    "print(Q)"
   ]
  },
  {
   "cell_type": "markdown",
   "metadata": {},
   "source": [
    "## 원형큐\n",
    "1. 크기가 n인 1차원 배열생성\n",
    "2. front와 rear를 0으로 초기화\n",
    "\n",
    "### 공백상태\n",
    "    front == rear\n",
    "### 포화상태\n",
    "    (rear + 1)mod n == front\n",
    "\n",
    "\n",
    " -mod n 이 포인트\n",
    "\n",
    "-(rear+1)%n = front 이면 가득찬 상태\n",
    "\n",
    "\n"
   ]
  },
  {
   "cell_type": "code",
   "execution_count": 19,
   "metadata": {},
   "outputs": [],
   "source": [
    "\n",
    "\n",
    "def enq(data):\n",
    "    global rear\n",
    "    global front\n",
    "    if (rear+1)%cQsize == front:\n",
    "        (front+1)%cQsize\n",
    "        rear = (rear+1)%cQsize\n",
    "        cQ[rear] = data\n",
    "\n",
    "def deq():\n",
    "    global front \n",
    "    # if front ==rear:\n",
    "    #     pass\n",
    "    front = (front+1)%cQsize\n",
    "    return cQ[front]\n",
    "\n",
    "\n",
    "cQsize = 4\n",
    "cQ = 0*cQsize\n",
    "front = 0\n",
    "rear = 0\n",
    "\n",
    "enq(1)\n",
    "enq(2)\n",
    "enq(3)\n",
    "enq(4)\n",
    "\n"
   ]
  },
  {
   "cell_type": "markdown",
   "metadata": {},
   "source": []
  }
 ],
 "metadata": {
  "kernelspec": {
   "display_name": "Python 3",
   "language": "python",
   "name": "python3"
  },
  "language_info": {
   "codemirror_mode": {
    "name": "ipython",
    "version": 3
   },
   "file_extension": ".py",
   "mimetype": "text/x-python",
   "name": "python",
   "nbconvert_exporter": "python",
   "pygments_lexer": "ipython3",
   "version": "3.9.13"
  },
  "orig_nbformat": 4
 },
 "nbformat": 4,
 "nbformat_minor": 2
}
