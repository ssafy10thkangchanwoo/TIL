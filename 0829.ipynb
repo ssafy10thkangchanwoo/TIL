{
 "cells": [
  {
   "cell_type": "markdown",
   "metadata": {},
   "source": [
    "# 스택 \n",
    "쌓아올리는 형태의 자료 구조.\n",
    "후입 선출방식 차용\n",
    "\n",
    "\n",
    "# 재귀호출\n",
    "함수 자기 자신을 호출하여 수행시킴\n",
    "재귀호출을 사용하면 함수의 프로그램의 크기를 줄이고 간단히 작성 가능\n",
    "단, 무수한 중복 호출이 존재함.\n",
    "\n",
    "# Memoization\n",
    "이전에 계산한 값을 메모리에 저장해서 매번 다시 계속하지 않도록 함.\n",
    "DP의 핵심기법\n",
    "# DP\n",
    "최적화 문제를 해결하는 알고리즘.\n",
    "작은 문제들부터 해결한다.\n",
    "# DFS\n",
    "한쪽 끝까지 간다.\n",
    "중간거점 기록하고.\n",
    "\n"
   ]
  },
  {
   "cell_type": "code",
   "execution_count": null,
   "metadata": {},
   "outputs": [],
   "source": [
    "def fibo2(n):\n",
    "    f = [0]*(n+1)\n",
    "    f[0] = 0\n",
    "    f[1] = 1\n",
    "    for i in range(2, n+1):\n",
    "        f[i] = f[i-1] f[i-2]\n",
    "    return f[n]"
   ]
  },
  {
   "cell_type": "code",
   "execution_count": 14,
   "metadata": {},
   "outputs": [
    {
     "name": "stdout",
     "output_type": "stream",
     "text": [
      "89\n",
      "19\n"
     ]
    }
   ],
   "source": [
    "def fibo1(n):\n",
    "    global memo\n",
    "    global cnt \n",
    "    cnt +=1\n",
    "    \n",
    "    if memo[n] == 0:\n",
    "        memo[n] = fibo1(n-1) + fibo1(n-2)\n",
    "        \n",
    "    return memo[n]\n",
    "\n",
    "\n",
    "memo = [0]*100\n",
    "memo[0] = 0\n",
    "memo[1] = 1\n",
    "memo[2] = 1\n",
    "cnt = 0\n",
    "print(fibo1(11))\n",
    "print(cnt)"
   ]
  },
  {
   "cell_type": "code",
   "execution_count": 7,
   "metadata": {},
   "outputs": [
    {
     "name": "stdout",
     "output_type": "stream",
     "text": [
      "89\n",
      "287\n"
     ]
    }
   ],
   "source": [
    "def fibo(n):\n",
    "    global cnt\n",
    "    cnt += 1\n",
    "    if n<2:\n",
    "        return n\n",
    "    else:\n",
    "        return fibo(n-1) + fibo(n-2)\n",
    "\n",
    "cnt = 0\n",
    "print(fibo(11))\n",
    "print(cnt)"
   ]
  }
 ],
 "metadata": {
  "kernelspec": {
   "display_name": "Python 3",
   "language": "python",
   "name": "python3"
  },
  "language_info": {
   "codemirror_mode": {
    "name": "ipython",
    "version": 3
   },
   "file_extension": ".py",
   "mimetype": "text/x-python",
   "name": "python",
   "nbconvert_exporter": "python",
   "pygments_lexer": "ipython3",
   "version": "3.9.13"
  },
  "orig_nbformat": 4
 },
 "nbformat": 4,
 "nbformat_minor": 2
}
